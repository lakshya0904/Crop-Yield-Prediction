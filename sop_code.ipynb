{
  "nbformat": 4,
  "nbformat_minor": 0,
  "metadata": {
    "colab": {
      "name": "sop code.ipynb",
      "provenance": [],
      "collapsed_sections": [],
      "toc_visible": true,
      "include_colab_link": true
    },
    "kernelspec": {
      "display_name": "Python 3",
      "language": "python",
      "name": "python3"
    },
    "language_info": {
      "codemirror_mode": {
        "name": "ipython",
        "version": 3
      },
      "file_extension": ".py",
      "mimetype": "text/x-python",
      "name": "python",
      "nbconvert_exporter": "python",
      "pygments_lexer": "ipython3",
      "version": "3.7.7"
    }
  },
  "cells": [
    {
      "cell_type": "markdown",
      "metadata": {
        "id": "view-in-github",
        "colab_type": "text"
      },
      "source": [
        "<a href=\"https://colab.research.google.com/github/lakshya0904/Crop-Yield-Prediction/blob/main/sop_code.ipynb\" target=\"_parent\"><img src=\"https://colab.research.google.com/assets/colab-badge.svg\" alt=\"Open In Colab\"/></a>"
      ]
    },
    {
      "cell_type": "code",
      "metadata": {
        "colab": {
          "base_uri": "https://localhost:8080/"
        },
        "id": "-QsLDCwg1b9q",
        "outputId": "73326020-89e7-4f72-a18d-f9688cda4550"
      },
      "source": [
        "from google.colab import drive\n",
        "drive.mount('/content/drive')"
      ],
      "execution_count": null,
      "outputs": [
        {
          "output_type": "stream",
          "text": [
            "Mounted at /content/drive\n"
          ],
          "name": "stdout"
        }
      ]
    },
    {
      "cell_type": "code",
      "metadata": {
        "id": "5UzIMqhy4xrG"
      },
      "source": [
        "import pandas as pd\n",
        "import os\n",
        "from os import listdir\n",
        "from os.path import isfile, join"
      ],
      "execution_count": null,
      "outputs": []
    },
    {
      "cell_type": "code",
      "metadata": {
        "id": "c-IeQ4vTw-bB"
      },
      "source": [
        "    \n",
        "    def load_clean_yield_data(yield_data_filepath):\n",
        "        \"\"\"\n",
        "        Cleans the yield data by making sure any Nan values in the columns we care about\n",
        "        are removed\n",
        "        \"\"\"\n",
        "        important_columns=['Year', 'State ANSI', 'County ANSI', 'Value']\n",
        "        yield_data=pd.read_csv(yield_data_filepath).dropna(subset=important_columns,how='any')\n",
        "\n",
        "        return yield_data\n",
        "\n",
        "    def get_tif_files(image_path):\n",
        "        \"\"\"\n",
        "        Get all the .tif files in the image folder.\n",
        "\n",
        "        Parameters\n",
        "        ----------\n",
        "        image_path: pathlib Path\n",
        "            Directory to search for tif files\n",
        "        Returns:\n",
        "            A list of .tif filenames\n",
        "        \"\"\"\n",
        "        files = []\n",
        "        for dir_file in image_path.iterdir():\n",
        "            # print(\"dir_file\")\n",
        "            # print(str(dir_file))\n",
        "            if str(dir_file).endswith('tif'):\n",
        "                # strip out the directory so its just the filename\n",
        "                files.append(str(dir_file.parts[-1]))\n",
        "                # print(str(dir_file.parts[-1]))\n",
        "        return files\n",
        "    def get_tif_files_12(image_path):#name length less than 12\n",
        "        \"\"\"\n",
        "        Get all the .tif files in the image folder.\n",
        "\n",
        "        Parameters\n",
        "        ----------\n",
        "        image_path: pathlib Path\n",
        "            Directory to search for tif files\n",
        "        Returns:\n",
        "            A list of .tif filenames\n",
        "        \"\"\"\n",
        "        files = []\n",
        "        for dir_file in image_path.iterdir():\n",
        "            # print(\"dir_file\")\n",
        "            # print(str(dir_file))\n",
        "            if str(dir_file).endswith('tif'):\n",
        "                # strip out the directory so its just the filename\n",
        "                if len(str(dir_file.parts[-1]))<12:#max possible name is ss_ccc.tif, len=10\n",
        "                    files.append(str(dir_file.parts[-1]))\n",
        "                # print(str(dir_file.parts[-1]))\n",
        "        return files\n",
        "    def get_tif_files_12(mask_path,temperature_path,image_path,weather_path):\n",
        "#         print(len(mask_path.iterdir()))\n",
        "        print(len([1 for x in list(os.scandir(mask_path)) if x.is_file()]))\n",
        "        print(len([1 for x in list(os.scandir(temperature_path)) if x.is_file()]))\n",
        "        print(len([1 for x in list(os.scandir(image_path)) if x.is_file()]))\n",
        "        print(len([1 for x in list(os.scandir(weather_path)) if x.is_file()]))\n",
        "        mask_files=[f for f in listdir(mask_path) if isfile(join(mask_path, f))]\n",
        "        print(\"\\n\\n\")\n",
        "        print(mask_files)\n",
        "        temperature_files=[f for f in listdir(temperature_path) if isfile(join(temperature_path, f))]\n",
        "        print(\"\\n\\n\")\n",
        "        print(temperature_files)\n",
        "        image_files=[f for f in listdir(image_path) if isfile(join(image_path, f))]\n",
        "        print(\"\\n\\n\")\n",
        "        print(image_files)\n",
        "        weather_files=[f for f in listdir(weather_path) if isfile(join(weather_path, f))]\n",
        "        print(\"\\n\\n\")\n",
        "        print(weather_files)\n",
        "        files = []\n",
        "        for dir_file in image_path.iterdir():\n",
        "            # print(\"dir_file\")\n",
        "            # print(str(dir_file))\n",
        "            if str(dir_file).endswith('tif'):\n",
        "                # strip out the directory so its just the filename\n",
        "                if len(str(dir_file.parts[-1]))<12:#max possible name is ss_ccc.tif, len=10\n",
        "                    if str(dir_file.parts[-1]) in temperature_files:\n",
        "                        if str(dir_file.parts[-1]) in weather_files:\n",
        "                            if str(dir_file.parts[-1]) in mask_files:\n",
        "                                files.append(str(dir_file.parts[-1]))\n",
        "                # print(str(dir_file.parts[-1]))\n",
        "        return files\n"
      ],
      "execution_count": null,
      "outputs": []
    },
    {
      "cell_type": "code",
      "metadata": {
        "id": "1fbD_rXEsZAk"
      },
      "source": [
        "#for exporting from ee to drive\n",
        "import ee\n",
        "import ssl\n",
        "import time\n",
        "from pathlib import Path\n",
        "import numpy as np\n",
        "np.set_printoptions(threshold=np.inf)"
      ],
      "execution_count": null,
      "outputs": []
    },
    {
      "cell_type": "code",
      "metadata": {
        "id": "mbKKJoR1s1ex"
      },
      "source": [
        "MAJOR_STATES=[1,2,3,4,5,6,7,8,9,10,11,12,13,14,15,16, 17, 18, 19, 20, 26, 27, 28, 29, 31, 38, 39, 46, 47, 55]\n",
        "# MAJOR_STATES=[1, 5, 17, 18, 19, 20, 27, 29, 31, 38, 39, 46]"
      ],
      "execution_count": null,
      "outputs": []
    },
    {
      "cell_type": "code",
      "metadata": {
        "id": "I4lP__dMvu1i"
      },
      "source": [
        "class ModisExporter:\n",
        "    \"\"\"A class to export MODIS data from \n",
        "    Google Earth Engine to Google Drive\n",
        "\n",
        "    Parameters\"\"\"\n",
        "\n",
        "    def __init__(self, locations_filepath=Path('SOP_download/yield_data.csv'),collection_id='MODIS/006/MOD09A1'):#006 instead of 051\n",
        "        self.locations=load_clean_yield_data(locations_filepath)\n",
        "        self.collection_id=collection_id\n",
        "\n",
        "        try:\n",
        "            # https://developers.google.com/earth-engine/guides/python_install-colab\n",
        "            # Trigger the authentication flow.\n",
        "            # Google Earth Engine Python Authenticator\n",
        "            ee.Authenticate()\n",
        "            # Initialize the Earth Engine module.\n",
        "            ee.Initialize()\n",
        "            print('Earth Engine initialized successfully!!')\n",
        "        except ee.EEException:\n",
        "            print('Earth Engine failed to initialize. Use authenticate in command line.')\n",
        "        \n",
        "    def update_parameters(self, location_filepath=None,collection_id=None):\n",
        "        \"\"\"\n",
        "        Update the locations file or the collection id\n",
        "        \"\"\"\n",
        "        if location_filepath is not None:\n",
        "            # self.locations=load(locations_filepath)\n",
        "            # from utils import load_clean_yield_data as load\n",
        "            self.locations=load_clean_yield_data(locations_filepath)\n",
        "        if collection_id is not None:\n",
        "            self.collection_id=collection_id\n",
        "\n",
        "    @staticmethod\n",
        "    def _export_one_image(img,folder, name, region, scale, crs):\n",
        "        # export one image from Earth Engine to Google Drive\n",
        "        print(f'Exporting to {folder}/{name}')\n",
        "        task_dict={\n",
        "            'folder': folder,\n",
        "            'fileNamePrefix': name,\n",
        "            'scale': scale,\n",
        "            'crs': crs\n",
        "        }\n",
        "        if region is not None:\n",
        "            task_dict.update({\n",
        "                'region': region\n",
        "            })\n",
        "        task=ee.batch.Export.image.toDrive(img,name, **task_dict)\n",
        "        task.start()\n",
        "        while task.status()['state']=='RUNNING':\n",
        "            print('Running....')\n",
        "            # perhaps task.cancel() at some point\n",
        "            time.sleep(10)\n",
        "        print(f'Done: {task.status()}')\n",
        "    \n",
        "    def export(self, folder_name, data_type, coordinate_system='EPSG:4326', scale=500,\n",
        "               export_limit=None, min_img_val=None, max_img_val=None, major_states_only=True,\n",
        "               check_if_done=False, download_folder=None):\n",
        "        \"\"\"Export an Image Collection from Earth Engine to Google Drive\n",
        "        Parameters\n",
        "        ----------\n",
        "            folder_name: str\n",
        "                The name of the folder to export the images to in\n",
        "                Google Drive. If the folder is not there, this process\n",
        "                creates it\n",
        "            data_type: str {'image', 'mask', 'temperature'}\n",
        "                The type of data we are collecting. This tells us which bands to collect.\n",
        "            coordinate_system: str, default='EPSG:4326'\n",
        "                The coordinate system in which to export the data\n",
        "            scale: int, default=500\n",
        "                The pixel resolution, as determined by the output.\n",
        "                https://developers.google.com/earth-engine/scale\n",
        "            export_limit: int or None, default=None\n",
        "                If not none, limits the number of files exported to the value\n",
        "                passed.\n",
        "            min_img_val = int or None:\n",
        "                A minimum value to clip the band values to\n",
        "            max_img_val: int or None\n",
        "                A maximum value to clip the band values to\n",
        "            major_states_only: boolean, default=True\n",
        "                Whether to only use the 11 states responsible for 75 % of national soybean\n",
        "                production, as is done in the paper\n",
        "            check_if_done: boolean, default=False\n",
        "                If true, will check download_folder for any .tif files which have already been\n",
        "                downloaded, and won't export them again. This effectively allows for\n",
        "                checkpointing, and prevents all files from having to be downloaded at once.\n",
        "            download_folder: None or pathlib Path, default=None\n",
        "                Which folder to check for downloaded files, if check_if_done=True. If None, looks\n",
        "                in data/folder_name\n",
        "        \"\"\"\n",
        "\n",
        "        if check_if_done:\n",
        "            if download_folder is None:\n",
        "                # download_folder=Path('data')/folder_name    #DATA folder???\n",
        "                download_folder=Path('')/folder_name\n",
        "                # folder_names is passed as 'SOP- Time Series Analysis with Deep Learning/crop_yield-data_image', etc...\n",
        "                already_downloaded= get_tif_files(download_folder)\n",
        "\n",
        "        # imgcoll=ee.ImageCollection(self.collection_id)\\\n",
        "        #     .filterBounds(ee.Geometry(-106.5,50,-64,23))\\\n",
        "        #     .filterDate('2002-12-31','2016-8-4')\n",
        "        imgcoll = ee.ImageCollection(self.collection_id) \\\n",
        "            .filterBounds(ee.Geometry.Rectangle(-106.5, 50, -64, 23)) \\\n",
        "            .filterDate('2002-12-31', '2012-12-31')\n",
        "\n",
        "        datatype_to_func={\n",
        "            'image': _append_im_band,\n",
        "            'mask': _append_mask_band,\n",
        "            'temperature': _append_temp_band,\n",
        "            'weather': _append_weather_band\n",
        "        }\n",
        "        \n",
        "\n",
        "        img = imgcoll.iterate(datatype_to_func[data_type])#data_type-> whether it is image, mask or temperature\n",
        "        #stacking images all over the years for particular state and county\n",
        "        img=ee.Image(img)   #need to explicitly use ee.Image because .iterate function returns Object\n",
        "\n",
        "        if min_img_val is not None:\n",
        "            # passing an ee.Number creates a constant image\n",
        "            img_min=ee.Image(ee.Number(min_img_val))\n",
        "            img=img.min(img_min)\n",
        "\n",
        "\n",
        "        if max_img_val is not None:\n",
        "            # passing an ee.Number creates a constant image\n",
        "            img_max=ee.Image(ee.Number(max_img_val))\n",
        "            img=img.max(img_max)\n",
        "\n",
        "       \n",
        "        region = ee.FeatureCollection('TIGER/2018/Counties')\n",
        "\n",
        "        \n",
        "        # https://developers.google.com/earth-engine/datasets/catalog/TIGER_2018_Counties\n",
        "        def state_to_int(feature):\n",
        "            return feature.set('COUNTYFP', ee.Number.parse(feature.get('COUNTYFP')))#how we got to know about string 'COUNTYFP' what does this mean\n",
        "        region=region.map(state_to_int)\n",
        "\n",
        "        count=0\n",
        "        for state_id, county_id in np.unique(self.locations[['State ANSI','County ANSI']].values,axis=0):\n",
        "            if major_states_only:\n",
        "                if (int)(state_id) not in MAJOR_STATES:\n",
        "                    print(f'Skipping state id {int(state_id)}')\n",
        "                    continue\n",
        "            fname='{}_{}'.format(int(state_id),int(county_id))\n",
        "\n",
        "            if check_if_done:\n",
        "                if f'{fname}.tif' in already_downloaded:\n",
        "                    print(f'{fname}.tif already downloaded! Skipping')\n",
        "                    continue\n",
        "            \n",
        "            file_region=region.filterMetadata('COUNTYFP','equals', int(county_id))\n",
        "            file_region=ee.Feature(file_region.first())\n",
        "\n",
        "        \n",
        "            processed_img=img.clip(file_region)\n",
        "\n",
        "        \n",
        "\n",
        "            file_region=None\n",
        "            while True:\n",
        "                # try:\n",
        "                self._export_one_image(processed_img,folder_name,fname, file_region, scale, coordinate_system)\n",
        "                # except (ee.ee_exception.EEException, ssl.SSLEOFError):\n",
        "                #     print(f'Retrying State {int(state_id)}, County  {int(county_id)}')\n",
        "                #     # print(f'Unable to export State {int(state_id)}, County  {int(county_id)}, so skipping')\n",
        "                #     # break\n",
        "                    # time.sleep(10)\n",
        "                    # continue\n",
        "                break\n",
        "\n",
        "            count+=1\n",
        "            if export_limit:\n",
        "                if count>=export_limit:\n",
        "                    print('Reached export limit!! Stopping...')\n",
        "                    break\n",
        "        print(f'Finished Exporting {count} files!')\n",
        "\n",
        "\n",
        "    def export_all(self,export_limit=None, major_states_only=True, check_if_done=True,\n",
        "                   download_folder=None):\n",
        "        \"\"\"\n",
        "        Export all the data.\n",
        "        download_folder = list of 3 pathlib Paths, for each of the 3 downloads\n",
        "        \"\"\"\n",
        "        if download_folder is None:\n",
        "            download_folder=[None]*4\n",
        "        assert len(download_folder)==4, \"Must have 3 download folders for the 3 exports!\"\n",
        "\n",
        "        #first, make sure the class was initialized correctly\n",
        "        # self.update_parameters(locations_filepath=load_clean_yield_data('SOP- Time Series Analysis with Deep Learning/yield_data.csv'),\n",
        "                            #    collection_id='MODIS/MOD09A1')\n",
        "        \n",
        "        \n",
        "        self.export(folder_name='crop_yield_image', data_type='image',\n",
        "                    min_img_val=16000, max_img_val=100,\n",
        "                    export_limit=export_limit, major_states_only=major_states_only,\n",
        "                    check_if_done=check_if_done, download_folder=download_folder[0])\n",
        "\n",
        "        # pull_MODIS_landcover_entire_county_clip.py\n",
        "        self.update_parameters(collection_id='MODIS/006/MCD12Q1')\n",
        "        self.export(folder_name='crop_yield_mask', data_type='mask',\n",
        "                    export_limit=export_limit, major_states_only=major_states_only,\n",
        "                    check_if_done=check_if_done, download_folder=download_folder[1])\n",
        "\n",
        "        # pull_MODIS_temperature_entire_county_clip.py\n",
        "        self.update_parameters(collection_id='MODIS/006/MOD11A2')\n",
        "        self.export(folder_name='crop_yield_temp', data_type='temperature',\n",
        "                    export_limit=export_limit, major_states_only=major_states_only,\n",
        "                    check_if_done=check_if_done, download_folder=download_folder[2])\n",
        "        \n",
        "        self.update_parameters(collection_id=\"NASA/ORNL/DAYMET_V3\")\n",
        "        self.export(folder_name='crop_yield_daymet', data_type='weather',\n",
        "                    export_limit=export_limit, major_states_only=major_states_only,\n",
        "                    check_if_done=check_if_done, download_folder=download_folder[3])\n",
        "\n",
        "\n",
        "\n",
        "        print('Done exporting! Download the folders from your Google Drive')\n",
        "\n",
        "\n",
        "\n",
        "    # first call current=1st image, previous=none, return 1st image\n",
        "    # 2nd call current, 2nd image, first\n",
        "    # 1_1, 1_2, 1_3, 2_1, 2_2, 2_3\n",
        "def _append_im_band(current,previous):                                  \n",
        "    # Transforms an Image Collection with 1 band per Image into a single Image with items as bands\n",
        "    \n",
        "    #Rename the band\n",
        "    previous=ee.Image(previous)\n",
        "    current=current.select([0, 1, 2, 3, 4, 5, 6])\n",
        "    # Append it to the result (Note: only return current item on first element/iteration)\n",
        "    return ee.Algorithms.If(ee.Algorithms.IsEqual(previous,None),current,previous.addBands(ee.Image(current)))\n",
        "    # so basically we are adding bands here, and now our final image have all images and their corresponding bands\n",
        "\n",
        "def _append_mask_band(current,previous):\n",
        "    # Transforms an Image Collection with 1 band per Image into a single Image with items as bands\n",
        "    \n",
        "    # Rename the band\n",
        "    previous=ee.Image(previous)\n",
        "    current=current.select([0])\n",
        "    # Append it to the result (Note: only return current item on first element/iteration)\n",
        "    return ee.Algorithms.If(ee.Algorithms.IsEqual(previous,None),current,previous.addBands(ee.Image(current)))\n",
        "\n",
        "def _append_temp_band(current,previous):\n",
        "    # Transforms an Image Collection with 1 band per Image into a single Image with items as bands\n",
        "    \n",
        "    # Rename the band\n",
        "    previous=ee.Image(previous)\n",
        "    current=current.select([0,4])\n",
        "    # Append it to the result (Note: only return current item on first element/iteration)\n",
        "    return ee.Algorithms.If(ee.Algorithms.IsEqual(previous, None), current, previous.addBands(ee.Image(current)))\n",
        "\n",
        "def _append_weather_band(current,previous):\n",
        "    # Transforms an Image Collection with 1 band per Image into a single Image with items as bands\n",
        "    \n",
        "    # Rename the band\n",
        "    previous=ee.Image(previous)\n",
        "    current=current.select([1,6])\n",
        "    # Append it to the result (Note: only return current item on first element/iteration)\n",
        "    return ee.Algorithms.If(ee.Algorithms.IsEqual(previous, None), current, previous.addBands(ee.Image(current)))\n",
        "\n",
        "\n"
      ],
      "execution_count": null,
      "outputs": []
    },
    {
      "cell_type": "code",
      "metadata": {
        "id": "uidFXPTVZanj"
      },
      "source": [
        "yield_data_path='SOP_download/yield_data.csv' #taken from pycrop\n",
        "                                                                # putting less entries\n",
        "yield_data_path = Path(yield_data_path)\n",
        "exporter = ModisExporter(locations_filepath=yield_data_path)\n",
        "exporter.export_all()"
      ],
      "execution_count": null,
      "outputs": []
    },
    {
      "cell_type": "code",
      "metadata": {
        "id": "IsXl_d8BZvXe"
      },
      "source": [
        "#Here goes preprocessing part"
      ],
      "execution_count": null,
      "outputs": []
    },
    {
      "cell_type": "code",
      "metadata": {
        "id": "vX-2HnCrwuVN"
      },
      "source": [
        "image=np.transpose(np.array(gdal.Open(str('/home/mpiuser/Downloads/image/31_23.tif')).ReadAsArray(), dtype='uint16' ),\n",
        "                        axes=(1,2,0))\n",
        "#print()"
      ],
      "execution_count": null,
      "outputs": []
    },
    {
      "cell_type": "code",
      "metadata": {
        "colab": {
          "base_uri": "https://localhost:8080/"
        },
        "id": "jm-coT9TxDo1",
        "outputId": "3c71f201-d536-47af-f752-e90a24b5c744"
      },
      "source": [
        "# print(np.count(image[:,:,:]==12))\n",
        "print(np.count_nonzero(image == 1112))"
      ],
      "execution_count": null,
      "outputs": [
        {
          "output_type": "stream",
          "text": [
            "5535\n"
          ],
          "name": "stdout"
        }
      ]
    },
    {
      "cell_type": "code",
      "metadata": {
        "id": "ZOa3tO7GmSui"
      },
      "source": [
        "#nnfl_cyp_save_hist\n",
        "from pathlib import Path\n",
        "import numpy as np\n",
        "import gdal\n",
        "import math\n",
        "from itertools import repeat\n",
        "from concurrent.futures import ProcessPoolExecutor\n"
      ],
      "execution_count": null,
      "outputs": []
    },
    {
      "cell_type": "code",
      "metadata": {
        "id": "FWH7_OWdx72L"
      },
      "source": [
        "class DataCleaner:\n",
        "    \"\"\"Take the exported, downloaded data\n",
        "    and clean it.\n",
        "\n",
        "    Specifically:\n",
        "    - split the image collections into years\n",
        "    - merge the temperature and reflection images\n",
        "    - apply the mask, so only the farmland pixels are considered\n",
        "\n",
        "    Parameters\n",
        "    -----------\n",
        "    mask_path: pathlib Path, default=Path('data/crop_yield-data_mask')\n",
        "        Path to which the mask tif files have been saved\n",
        "    temperature_path: pathlib Path, default=Path('data/crop_yield-data_temperature')\n",
        "        Path to which the temperature tif files have been saved\n",
        "    image_path: pathlib Path, default=Path('data/crop_yield-data_image')\n",
        "        Path to which the image tif files have been saved\n",
        "    yield_data: pathlib Path, default=Path('data/yield_data.csv')\n",
        "        Path to the yield data csv file\n",
        "    savedir: pathlib Path, default=Path('data/img_output')\n",
        "        Path to save the data to\n",
        "    multiprocessing: boolean, default=False\n",
        "        Whether to use multiprocessing\n",
        "    \"\"\"\n",
        "\n",
        "    def __init__ (self,mask_path=Path('/content/drive/MyDrive/crop_yield-data_mask_aditya'),\n",
        "                  temperature_path=Path('/content/drive/MyDrive/crop_yield-data_temperature_aditya'),\n",
        "                  image_path=Path('/content/drive/MyDrive/crop_yield-data_image_aditya'),\n",
        "                  weather_path = Path('/content/drive/MyDrive/Daymet_data'),\n",
        "                  yield_data_path=Path('SOP_download/yield_data.csv'),\n",
        "                  savedir=Path('/content/drive/MyDrive/img_output'),\n",
        "                  multiprocessing=False, processes=4, parallelism=6):\n",
        "        self.mask_path=mask_path;\n",
        "        self.temperature_path=temperature_path;\n",
        "        self.image_path=image_path;\n",
        "        self.weather_path = weather_path\n",
        "        self.tif_files=get_tif_files_12(self.mask_path,self.temperature_path,self.image_path,self.weather_path)\n",
        "        self.tif_files.sort()\n",
        "        for x in range(100):\n",
        "            self.tif_files.insert(0, self.tif_files.pop())\n",
        "            # self.tif_files=self.tif_files[1:] + self.tif_files[0]\n",
        "        # self.tif_files.sort(reverse=True)\n",
        "        # self.tif_files.reverse()\n",
        "        # simply as read by library\n",
        "        self.multiprocessing=multiprocessing;\n",
        "        self.processes=processes;\n",
        "        self.parallelism=parallelism\n",
        "\n",
        "        self.savedir = savedir\n",
        "        if not self.savedir.exists():\n",
        "            self.savedir.mkdir()\n",
        "\n",
        "        self.yield_data=load_clean_yield_data(yield_data_path)[['Year', 'State ANSI', 'County ANSI']].values.astype(int) #.astype(int) added to avoid floating values read\n",
        "        \n",
        "    \n",
        "    def process(self, num_years=14, delete_when_done=False):\n",
        "        \"\"\"\n",
        "        Process all the data.\n",
        "\n",
        "        Parameters\n",
        "        ----------\n",
        "        num_years: int, default=14\n",
        "            How many years of data to create.\n",
        "        delete_when_done: boolean, default=False\n",
        "            Whether or not to delete the original .tif files once the .npy array\n",
        "            has been generated.\n",
        "        \"\"\"\n",
        "        print(\"#counties available: \")\n",
        "        print(len(self.tif_files))\n",
        "        # print(\"0\")\n",
        "        # print(image_path.iterdir())\n",
        "    \n",
        "        files = []\n",
        "        for dir_file in image_path.iterdir():\n",
        "            # print(\"dir_file\")\n",
        "            # print(str(dir_file))\n",
        "            if str(dir_file).endswith('tif'):\n",
        "                # strip out the directory so its just the filename\n",
        "                # print(len(str(dir_file.parts[-1])))\n",
        "                if len(str(dir_file.parts[-1]))<12:#max possible name is ss_ccc.tif, len=10\n",
        "                    # print(len(str(dir_file.parts[-1])))\n",
        "                    files.append(str(dir_file.parts[-1]))#basically taking out filename only\n",
        "                # print(str(dir_file.parts[-1]))\n",
        "        # print(tif_files)\n",
        "        print(len(files))\n",
        "\n",
        "      \n",
        "        if delete_when_done:\n",
        "            print('Warning!! delete_when_done=True will delete the .tif files')\n",
        "        \n",
        "        if not self.multiprocessing:\n",
        "            for filename in self.tif_files:\n",
        "                # print(filename)\n",
        "                process_county(filename, self.savedir, self.image_path, self.mask_path,\n",
        "                               self.temperature_path, self.weather_path,self.yield_data, num_years=num_years, \n",
        "                               delete_when_done=delete_when_done)\n",
        "               \n",
        "        else:\n",
        "            length=len(self.tif_files)\n",
        "            files_iter=iter(self.tif_files)\n",
        "            # for i in self.tif_files:\n",
        "            #     print(i)\n",
        "            #working fine!!\n",
        "            # print(self.savedir)#fine\n",
        "\n",
        "            # turn all other arguments to iterator\n",
        "            savedir_iter=repeat(self.savedir)\n",
        "            im_path_iter=repeat(self.image_path)\n",
        "            mask_path_iter=repeat(self.mask_path)\n",
        "            temp_path_iter=repeat(self.temperature_path)\n",
        "            weat_path_iter = repeat(self.weather_path)\n",
        "            yd_iter=repeat(self.yield_data)\n",
        "            num_years_iter=repeat(num_years)\n",
        "            delete_when_done_iter=repeat(delete_when_done)\n",
        "\n",
        "            with ProcessPoolExecutor() as executor:\n",
        "                chunksize= int(max(length/(self.processes*self.parallelism),1))\n",
        "                # print(self.processes)\n",
        "                # print(self.parallelism)\n",
        "                # print(chunksize)\n",
        "                executor.map(process_county, files_iter, savedir_iter, im_path_iter,mask_path_iter,\n",
        "                             temp_path_iter, weat_path_iter,yd_iter, num_years_iter, delete_when_done_iter,\n",
        "                             chunksize=chunksize)\n",
        "\n",
        "def process_county(filename, savedir, image_path, mask_path, temperature_path, weather_path,yield_path,\n",
        "                    num_years, delete_when_done):\n",
        "    \"\"\"\n",
        "    Process and save county level data\n",
        "    \"\"\"\n",
        "\n",
        "    # exporting part saves files in \"{state}_{county}_.tif\" format\n",
        "    # so the last 4 characters are always .tif\n",
        "    #print(\"2\")\n",
        "    print(\"process_county \\t\",filename)\n",
        "    locations=filename[:-4].split(\"_\")\n",
        "    state, county=int(locations[0]), int(locations[1])\n",
        "\n",
        "    image=np.transpose(np.array(gdal.Open(str(image_path/filename)).ReadAsArray(), dtype='uint16' ),\n",
        "                        axes=(1,2,0))\n",
        "    temp=np.transpose(np.array(gdal.Open(str(temperature_path/filename)).ReadAsArray(), dtype='uint16' ),\n",
        "                        axes=(1,2,0))\n",
        "    mask=np.transpose(np.array(gdal.Open(str(mask_path/filename)).ReadAsArray(), dtype='uint16' ),\n",
        "                        axes=(1,2,0))\n",
        "    weather = np.transpose(np.array(gdal.Open(str(weather_path/filename)).ReadAsArray(), dtype='uint16' ),\n",
        "                        axes=(1,2,0))\n",
        "    \n",
        "    # print(weather.shape,\" \",image.shape,\" \",temp.shape,\"\\n\")\n",
        "\n",
        "    temp = temp-12400\n",
        "        # scale\n",
        "    temp = temp*1.5625  #considering 12400 (0) to 15600 (5000)\n",
        "    # clean\n",
        "    temp[temp<0]=0\n",
        "    temp[temp>5000]=5000\n",
        "\n",
        "    image = image-1\n",
        "    image[image<0]=0\n",
        "    image[image>5000]=5000\n",
        "\n",
        "    weather[:,:,0:weather.shape[2]:2] = weather[:,:,0:weather.shape[2]:2]*(5000/35)  #considering 12400 (0) to 15600 (5000)\n",
        "    # clean\n",
        "    weather[:,:,1:weather.shape[2]:2] = weather[:,:,1:weather.shape[2]:2]*(5000/3200)\n",
        "    weather[weather<0]=0\n",
        "    weather[weather>5000]=5000\n",
        "\n",
        "\n",
        "    # a values of 12 indicates farmland: everything else, we want to ignore\n",
        "    mask[mask!=12]=0\n",
        "    mask[mask==12]=1\n",
        "    #print(mask)\n",
        "    # print(\"1\")\n",
        "    # when exporting the image, we append bands from many years into a single image for efficiency.\n",
        "    # We want to split it back now\n",
        "    img_temp_weat_merge = []\n",
        "    # num bands and composite perios from the MODIS website\n",
        "    img_list= divide_into_years(image, bands=7, composite_period=8, num_years=num_years)\n",
        "    \n",
        "    mask_list= divide_into_years(mask, bands=1, composite_period=365, num_years=num_years, extend=True)\n",
        "    \n",
        "    temp_list= divide_into_years(temp, bands=2, composite_period=8, num_years=num_years)\n",
        "    \n",
        "    weat_list= divide_into_years_daymet(weather, bands = 2, composite_period=1, num_years= num_years) #divide_into_years(weather, bands=2, composite_period=8, num_years=num_years)\n",
        "    \n",
        "    img_temp_weat_merge = merge_image_lists(img_list, 7, temp_list, 2, weat_list, 2)\n",
        "    \n",
        "    masked_img_temp_weat = mask_image(img_temp_weat_merge, mask_list)\n",
        "    \n",
        "    start_year=2006 #start year from the modis website\n",
        "    \n",
        "    for i in range(0,num_years):\n",
        "        year=i+start_year\n",
        "        # print(i)\n",
        "        key=np.array([year,state,county])\n",
        "        # print(\"3\")\n",
        "        fname='{}_{}_{}'.format(int(year),int(state),int(county))\n",
        "        # save_filename='{year}_{state}_{county}'\n",
        "        save_filename=fname;\n",
        "        # print(\"saving file\",save_filename)\n",
        "        np.save(savedir/save_filename, masked_img_temp_weat[i])\n",
        "        print(\"saving file\",save_filename)\n",
        "        # print(\"saved\\n\")\n",
        "\n",
        "    if delete_when_done:\n",
        "        (image_path/filename).unlink()\n",
        "        (temperature_path/filename).unlink()\n",
        "        (mask_path/filename).unlink()\n",
        "        (weather_path/filename).unlink()\n",
        "    \n",
        "    print(f'{filename} array written')\n",
        "\n",
        "\n",
        "# helper methods for the data cleaning\n",
        "\n",
        "def divide_into_years(img, bands, composite_period, num_years=10, extend=False):\n",
        "    \"\"\"\n",
        "    Parameters\n",
        "    ----------\n",
        "    img: the appended image collection to split up\n",
        "    bands: the number of bands in an individual image\n",
        "    composite_period: length of the composite period, in days\n",
        "    num_years: how many years of data to create.\n",
        "    extend: boolean, default=False\n",
        "        If true, and num_years > number of years for which we have data, then the extend the image\n",
        "        collection by copying over the last image.\n",
        "        NOTE: This is different from the original code, where the 2nd to last image is copied over\n",
        "\n",
        "    Returns:\n",
        "    ----------\n",
        "    im_list: a list of appended image collections, where each element in the list is a year's worth\n",
        "        of data\n",
        "    \"\"\"\n",
        "    bands_per_year=bands*math.ceil(365/composite_period)\n",
        "\n",
        "    # if necessary, pad the image collection with the final images\n",
        "    if extend: \n",
        "        num_bands_necessary=bands_per_year*num_years\n",
        "        while img.shape[2]<num_bands_necessary:\n",
        "            img=np.concatenate((img, img[:, :, -bands:]),axis=2)\n",
        "\n",
        "    image_list=[]\n",
        "    cur_idx=0\n",
        "    for i in range(0, num_years-1):\n",
        "        image_list.append(img[:,:,cur_idx:cur_idx+bands_per_year])\n",
        "        cur_idx+=bands_per_year\n",
        "    image_list.append(img[:,:,cur_idx:cur_idx+bands_per_year])\n",
        "    return image_list\n",
        "\n",
        "def divide_into_years_daymet(img, bands, composite_period, num_years=10, extend=False):\n",
        "    # bands=2\n",
        "    # composite_period=1\n",
        "    bands_per_year=bands*math.ceil(365/composite_period)\n",
        "\n",
        "    # print(\"a\")\n",
        "\n",
        "    # if necessary, pad the image collection with the final images\n",
        "    if extend: \n",
        "        num_bands_necessary=bands_per_year*num_years\n",
        "        while img.shape[2]<num_bands_necessary:\n",
        "            img=np.concatenate((img, img[:, :, -bands:]),axis=2)\n",
        "        \n",
        "            \n",
        "    \n",
        "    # d1b1 d1b2 d2b1 d2b2 d3b1 d3b2 d4b1 d4b2 d5b1 d5b2 d6b1 d6b2 d7b1 d7b2 d8b1 d8b2 d9b1 d9b2 .......\n",
        "    image_list=[]\n",
        "    cur_idx=0\n",
        "    required=np.arange(365)\n",
        "    required = np.append(required[required%8 == 0],required[required%8 == 1])\n",
        "    required=np.sort(required)\n",
        "    for i in range(0, num_years-1,1):\n",
        "        # for j in range(0,365,8):\n",
        "        # image_list.append(composite_period_8[:,:,:])  \n",
        "        # image_list.append(img[:,:,cur_idx:cur_idx+bands_per_year:8])\n",
        "        # print(i)\n",
        "        image_list.append(img[:,:,cur_idx+required])\n",
        "        # print(i,\"post\")\n",
        "        cur_idx+=bands_per_year\n",
        "        # print(i,\"postt\")\n",
        "    # print(\"before append\")\n",
        "    image_list.append(img[:,:,cur_idx+required])\n",
        "\n",
        "    # print(\"P\")\n",
        "\n",
        "    return image_list\n",
        "\n",
        "# this function is now working well in comparison to older one\n",
        "def merge_image_lists(MODIS_img_list,num_bands_1,MODIS_temperature_img_list, num_bands_2, MODIS_weather_img_list, num_bands_3):\n",
        "    MODIS_list = []\n",
        "    # print(len(MODIS_img_list))\n",
        "    for i in range(0,len(MODIS_img_list)):\n",
        "        img_shape=MODIS_img_list[i].shape\n",
        "        img_temperature_shape=MODIS_temperature_img_list[i].shape\n",
        "        img_weather_shape = MODIS_weather_img_list[i].shape\n",
        "        img_shape_new=(img_shape[0],img_shape[1],img_shape[2]+img_temperature_shape[2]+img_weather_shape[2])\n",
        "        merged_tensor =np.empty(img_shape_new)\n",
        "        # print(\"img : \",img_shape[2]/7,\"temp : \",img_temperature_shape[2]/2, \"weat :\",img_weather_shape[2]/2, \"\\n\")\n",
        "        for j in range(0,(int)(img_weather_shape[2]/2)):\n",
        "            img=MODIS_img_list[i][:,:,(j*7):(j*7+7)]\n",
        "            temperature=MODIS_temperature_img_list[i][:,:,(j*2):(j*2+2)]\n",
        "            weat = MODIS_weather_img_list[i][:,:,(j*2):(j*2+2)]\n",
        "            #merged_tensor[:,:,(j*11):(j*11+11)] = np.concatenate(np.concatenate((img,temperature),axis=2), weat, axis =2)\n",
        "            merged_tensor[:,:,(j*11):(j*11+11)] = np.concatenate((img,temperature, weat), axis =2)\n",
        "            # print(j)\n",
        "        MODIS_list.append(merged_tensor)\n",
        "        # print(MODIS_list[0].shape)\n",
        "    # print(MODIS_list[0].shape)\n",
        "    return MODIS_list\n",
        "\n",
        "\n",
        "\n",
        "def mask_image(im_list, mask_list):\n",
        "    masked_im_list=[]\n",
        "\n",
        "    #assert len(im_list)==len(mask_list)#,\"Mask and the Image listas are not of the same length\"\n",
        "    # print(len(im_list),\" \",len(mask_list))\n",
        "\n",
        "    for img, mask in zip(im_list, mask_list):\n",
        "        expanded_mask=np.tile(mask,(1,1,img.shape[2]))\n",
        "        masked_img=img*expanded_mask\n",
        "        masked_im_list.append(masked_img)\n",
        "    \n",
        "    #masked_im_list[0]\n",
        "\n",
        "    return masked_im_list\n",
        "\n"
      ],
      "execution_count": null,
      "outputs": []
    },
    {
      "cell_type": "code",
      "metadata": {
        "id": "YuLEqSh3V6he"
      },
      "source": [
        "\n",
        "mask_path = Path('/content/drive/MyDrive/data_Lakshya/crop_yield-data_mask_Lakshya')\n",
        "temperature_path=Path('/content/drive/MyDrive/data_Lakshya/crop_yield-data_temperature')\n",
        "image_path=Path('/content/drive/MyDrive/data_Lakshya/crop_yield-data_image_Lakshya')\n",
        "weather_path = Path('/content/drive/MyDrive/data_Lakshya/Daymet_data')\n",
        "yield_data_path=Path('/content/drive/MyDrive/data_Lakshya/corn_yield_Lakshya.csv')\n",
        "cleaned_data_path=Path('/content/drive/MyDrive/data_Lakshya_op/uImageComposite')\n",
        "multiprocessing=False\n",
        "processes=4 # prev = 4\n",
        "parallelism=6 # prev = 6\n",
        "delete_when_done=False\n",
        "num_years = 10  #number of years of data = 10\n",
        "\n",
        "cleaner = DataCleaner(mask_path, temperature_path, image_path, weather_path, yield_data_path,\n",
        "                        savedir=cleaned_data_path, multiprocessing=multiprocessing,\n",
        "                        processes=processes, parallelism=parallelism)\n",
        "cleaner.process(delete_when_done=delete_when_done, num_years=num_years)\n",
        "# np.set_printoptions(threshold=np.inf)#to print all rows in next line w/o truncation\n",
        "# print(cleaner.yield_data)\n",
        "# data3 = cleaner.yield_data[cleaner.yield_data[1].isin([5,1])]\n",
        "# print (data3)\n"
      ],
      "execution_count": null,
      "outputs": []
    },
    {
      "cell_type": "code",
      "metadata": {
        "id": "zCCkOVq2wIy4"
      },
      "source": [
        "a = np.load('/content/drive/MyDrive/img_output/2004_17_147.npy')\n",
        "np.nonzero(a[0])\n"
      ],
      "execution_count": null,
      "outputs": []
    },
    {
      "cell_type": "code",
      "metadata": {
        "id": "LIsPfjQ13KML"
      },
      "source": [
        "#nnfl_cyp_save_hist\n",
        "from pathlib import Path\n",
        "import numpy as np\n",
        "import gdal\n",
        "import math\n",
        "from itertools import repeat\n",
        "from concurrent.futures import ProcessPoolExecutor\n",
        "\n",
        "# from .utils import load_clean_yield_data as load #directly use functions\n",
        "# from .utils import get_tif_files ##directly use functions\n"
      ],
      "execution_count": null,
      "outputs": []
    },
    {
      "cell_type": "code",
      "metadata": {
        "id": "1CdTeiYv3P_G"
      },
      "source": [
        "class DataCleanerSoil:\n",
        "    \"\"\"Take the exported, downloaded data\n",
        "    and clean it.\n",
        "\n",
        "    Specifically:\n",
        "    - split the image collections into years\n",
        "    - merge the temperature and reflection images\n",
        "    - apply the mask, so only the farmland pixels are considered\n",
        "\n",
        "    Parameters\n",
        "    -----------\n",
        "    mask_path: pathlib Path, default=Path('data/crop_yield-data_mask')\n",
        "        Path to which the mask tif files have been saved\n",
        "    clay_path: pathlib Path, default=Path('data/crop_yield-data_clay')\n",
        "        Path to which the temperature tif files have been saved\n",
        "    sand_path: pathlib Path, default=Path('data/crop_yield-data_sand')\n",
        "        Path to which the image tif files have been saved\n",
        "    yield_data: pathlib Path, default=Path('data/yield_data.csv')\n",
        "        Path to the yield data csv file\n",
        "    savedir: pathlib Path, default=Path('data/img_output')\n",
        "        Path to save the data to\n",
        "    multiprocessing: boolean, default=False\n",
        "        Whether to use multiprocessing\n",
        "    \"\"\"\n",
        "\n",
        "    def __init__ (self,mask_path=Path('/content/drive/MyDrive/crop_yield-data_mask_aditya'),\n",
        "                  clay_path=Path('/content/drive/MyDrive/crop_yield-data_temperature_aditya'),\n",
        "                  sand_path=Path('/content/drive/MyDrive/crop_yield-data_image_aditya'),\n",
        "                  water_path = Path('/content/drive/MyDrive/Daymet_data'),\n",
        "                  ph_path = Path('/content/drive/MyDrive/Daymet_data'),\n",
        "                  bulk_path = Path('/content/drive/MyDrive/Daymet_data'),\n",
        "                  carbon_path = Path('/content/drive/MyDrive/Daymet_data'),\n",
        "                  yield_data_path=Path('SOP_download/yield_data.csv'),\n",
        "                  savedir=Path('/content/drive/MyDrive/img_output'),\n",
        "                  multiprocessing=False, processes=4, parallelism=6):\n",
        "        self.mask_path=mask_path;\n",
        "        self.clay_path=clay_path;\n",
        "        self.sand_path=sand_path;\n",
        "        self.water_path=water_path;\n",
        "        self.ph_path = ph_path;\n",
        "        self.bulk_path = bulk_path;\n",
        "        self.carbon_path = carbon_path;\n",
        "        self.tif_files=get_tif_files_12(self.mask_path,self.clay_path,self.sand_path,self.water_path)\n",
        "        self.tif_files.sort(reverse=True)\n",
        "        self.multiprocessing=multiprocessing;\n",
        "        self.processes=processes;\n",
        "        self.parallelism=parallelism\n",
        "\n",
        "        self.savedir = savedir\n",
        "        if not self.savedir.exists():\n",
        "            self.savedir.mkdir()\n",
        "\n",
        "        self.yield_data=load_clean_yield_data(yield_data_path)[['Year', 'State ANSI', 'County ANSI']].values.astype(int) #.astype(int) added to avoid floating values read\n",
        "        \n",
        "    \n",
        "    def process(self, num_years=14, delete_when_done=False):\n",
        "        \"\"\"\n",
        "        Process all the data.\n",
        "\n",
        "        Parameters\n",
        "        ----------\n",
        "        num_years: int, default=14\n",
        "            How many years of data to create.\n",
        "        delete_when_done: boolean, default=False\n",
        "            Whether or not to delete the original .tif files once the .npy array\n",
        "            has been generated.\n",
        "        \"\"\"\n",
        "        # print(image_path.iterdir())\n",
        "        files = []\n",
        "        for dir_file in clay_path.iterdir():\n",
        "            # print(\"dir_file\")\n",
        "            # print(str(dir_file))\n",
        "            if str(dir_file).endswith('tif'):\n",
        "                # strip out the directory so its just the filename\n",
        "                files.append(str(dir_file.parts[-1]))\n",
        "                # print(str(dir_file.parts[-1]))\n",
        "        # print(tif_files)\n",
        "        print(len(files))\n",
        "        if delete_when_done:\n",
        "            print('Warning!! delete_when_done=True will delete the .tif files')\n",
        "        \n",
        "        if not self.multiprocessing:\n",
        "            for filename in self.tif_files:\n",
        "                # print(filename)\n",
        "                process_county(filename, self.savedir, self.clay_path, self.mask_path,\n",
        "                               self.sand_path, self.water_path, self.ph_path, self.bulk_path, \n",
        "                               self.carbon_path,self.yield_data, num_years=num_years, \n",
        "                               delete_when_done=delete_when_done)\n",
        "        #above if part is not working else part is working        \n",
        "        else:\n",
        "            length=len(self.tif_files)\n",
        "            files_iter=iter(self.tif_files)\n",
        "            # for i in self.tif_files:\n",
        "            #     print(i)\n",
        "            #working fine!!\n",
        "            # print(self.savedir)#fine\n",
        "\n",
        "            # turn all other arguments to iterator\n",
        "            savedir_iter=repeat(self.savedir)\n",
        "            clay_path_iter=repeat(self.clay_path)\n",
        "            mask_path_iter=repeat(self.mask_path)\n",
        "            sand_path_iter=repeat(self.sand_path)\n",
        "            water_path_iter = repeat(self.water_path)\n",
        "            ph_path_iter = repeat(self.ph_path)\n",
        "            bulk_path_iter = repeat(self.bulk_path)\n",
        "            carbon_path_iter = repeat(self.carbon_path)\n",
        "            yd_iter=repeat(self.yield_data)\n",
        "            num_years_iter=repeat(num_years)\n",
        "            delete_when_done_iter=repeat(delete_when_done)\n",
        "\n",
        "            with ProcessPoolExecutor() as executor:\n",
        "                chunksize= int(max(length/(self.processes*self.parallelism),1))\n",
        "                # print(self.processes)\n",
        "                # print(self.parallelism)\n",
        "                # print(chunksize)\n",
        "                executor.map(process_county, files_iter, savedir_iter, clay_path_iter,mask_path_iter,\n",
        "                             sand_path_iter, water_path_iter, ph_path_iter, bulk_path_iter, carbon_path_iter,\n",
        "                             yd_iter, num_years_iter, delete_when_done_iter,\n",
        "                             chunksize=chunksize)\n",
        "\n",
        "def process_county(filename, savedir, clay_path, mask_path, sand_path, water_path,\n",
        "                   ph_path, bulk_path, carbon_path,yield_path,\n",
        "                    num_years, delete_when_done):\n",
        "    \"\"\"\n",
        "    Process and save county level data\n",
        "    \"\"\"\n",
        "\n",
        "    # exporting part saves files in \"{state}_{county}_.tif\" format\n",
        "    # so the last 4 characters are always .tif\n",
        "    \n",
        "    print(\"process_county \\t\",filename)\n",
        "    locations=filename[:-4].split(\"_\")\n",
        "    state, county=int(locations[0]), int(locations[1])\n",
        "\n",
        "    clay=np.transpose(np.array(gdal.Open(str(clay_path/filename)).ReadAsArray(), dtype='uint16' ),\n",
        "                        axes=(1,2,0))\n",
        "    sand=np.transpose(np.array(gdal.Open(str(sand_path/filename)).ReadAsArray(), dtype='uint16' ),\n",
        "                        axes=(1,2,0))\n",
        "    water=np.transpose(np.array(gdal.Open(str(water_path/filename)).ReadAsArray(), dtype='uint16' ),\n",
        "                        axes=(1,2,0))\n",
        "    ph=np.transpose(np.array(gdal.Open(str(ph_path/filename)).ReadAsArray(), dtype='uint16' ),\n",
        "                        axes=(1,2,0))\n",
        "    carbon=np.transpose(np.array(gdal.Open(str(carbon_path/filename)).ReadAsArray(), dtype='uint16' ),\n",
        "                        axes=(1,2,0))\n",
        "    bulk=np.transpose(np.array(gdal.Open(str(bulk_path/filename)).ReadAsArray(), dtype='uint16' ),\n",
        "                        axes=(1,2,0))\n",
        "    \n",
        "    mask=np.transpose(np.array(gdal.Open(str(mask_path/filename)).ReadAsArray(), dtype='uint16' ),\n",
        "                        axes=(1,2,0))\n",
        "    # print(weather.shape,\" \",image.shape,\" \",temp.shape,\"\\n\")\n",
        "\n",
        "    #shift\n",
        "    clay = clay-2\n",
        "    # scale\n",
        "    clay = clay*(5000/98)  #considering 2 (0) to 100 (5000)\n",
        "    # clean\n",
        "    clay[clay<0]=0\n",
        "    clay[clay>5000]=5000\n",
        "\n",
        "    ph = ph-42\n",
        "    ph = ph*(5000/68)  #considering 42 (0) to 110 (5000)\n",
        "    ph[ph<0]=0\n",
        "    ph[ph>5000]=5000\n",
        "\n",
        "    water = water-0\n",
        "    water = water*(5000/52.974)  #considering 0 (0) to 52.974 (5000)\n",
        "    water[water<0]=0\n",
        "    water[water>5000]=5000\n",
        "\n",
        "    carbon = carbon-0\n",
        "    carbon = carbon*(5000/120)  #considering 0 (0) to 120 (5000)\n",
        "    carbon[carbon<0]=0\n",
        "    carbon[carbon>5000]=5000\n",
        "   \n",
        "    bulk = bulk-5\n",
        "    bulk = bulk*(5000/180)  #considering 5 (0) to 185 (5000)\n",
        "    bulk[bulk<0]=0\n",
        "    bulk[bulk>5000]=5000\n",
        "\n",
        "    sand = sand-1\n",
        "    sand = sand*(5000/99)  #considering 1 (0) to 100 (5000)\n",
        "    sand[sand<0]=0\n",
        "    sand[sand>5000]=5000\n",
        "\n",
        "\n",
        "    # a values of 12 indicates farmland: everything else, we want to ignore\n",
        "    mask[mask!=12]=0\n",
        "    mask[mask==12]=1\n",
        "    # when exporting the image, we append bands from many years into a single image for efficiency.\n",
        "    # We want to split it back now\n",
        "    soil_merge = []\n",
        "    # num bands and composite perios from the MODIS website\n",
        "    # img_list= divide_into_years(image, bands=7, composite_period=8, num_years=num_years)\n",
        "    \n",
        "    mask_list= divide_into_years(mask, bands=1, composite_period=365, num_years=num_years, extend=True)\n",
        "    \n",
        "    soil_merge_list = merge_images(clay, 6, sand, 6, water, 6, ph, 6, carbon, 6, bulk, 6)\n",
        "    \n",
        "    masked_soil = mask_soil(soil_merge_list, mask_list)\n",
        "    \n",
        "    start_year=2006 #start year from the modis website\n",
        "    \n",
        "    for i in range(0,num_years):\n",
        "        year=i+start_year\n",
        "        # print(i)\n",
        "        key=np.array([year,state,county])\n",
        "        #now check if this key is in yield data\n",
        "        # print(\"key\",key)\n",
        "        # print(yield_data)\n",
        "        # print(np.equal(yield_data[:,:3],key).all(axis=1))\n",
        "        # if condition is not holding true now.....\n",
        "        # if np.equal(yield_data[:,:3],key).all(axis=1).max():\n",
        "        # if np.sum(np.all(data_yield[:,0:3] == key, axis=1))>0:\n",
        "        # print(\"matched\")\n",
        "        fname='{}_{}_{}'.format(int(year),int(state),int(county))\n",
        "        # save_filename='{year}_{state}_{county}'\n",
        "        save_filename=fname;\n",
        "        # print(\"saving file\",save_filename)\n",
        "        np.save(savedir/save_filename, masked_soil[i])\n",
        "        print(\"saving file\",save_filename)\n",
        "        # print(\"saved\\n\")\n",
        "\n",
        "    if delete_when_done:\n",
        "        (clay_path/filename).unlink()\n",
        "        (sand_path/filename).unlink()\n",
        "        (water_path/filename).unlink()\n",
        "        (ph_path/filename).unlink()\n",
        "        (carbon_path/filename).unlink()\n",
        "        (bulk_path/filename).unlink()\n",
        "        (mask_path/filename).unlink()\n",
        "    \n",
        "    print(f'{filename} array written')\n",
        "\n",
        "\n",
        "# helper methods for the data cleaning\n",
        "\n",
        "# this function is now working well in comparison to older one\n",
        "def merge_images(clay, num_bands_1, sand, num_bands_2, water, num_bands_3, ph, num_bands_4, carbon, num_bands_5, bulk, num_bands_6):\n",
        "    MODIS_list = []\n",
        "    shape=clay.shape\n",
        "    # print(shape)\n",
        "    shape_new=(shape[0],shape[1],36)\n",
        "    # print(shape_new)\n",
        "    merged_tensor=np.empty(shape_new)\n",
        "    merged_tensor[:,:,0:36]=np.concatenate((clay,sand,water,ph,carbon,bulk), axis =2)\n",
        "    MODIS_list.append(merged_tensor)\n",
        "    return MODIS_list\n",
        "\n",
        "\n",
        "\n",
        "def mask_soil(soil_merge_list, mask_list):\n",
        "    masked_im_list=[]\n",
        "\n",
        "    #assert len(im_list)==len(mask_list)#,\"Mask and the Image listas are not of the same length\"\n",
        "\n",
        "    print(len(soil_merge_list),\" \",len(mask_list))\n",
        "\n",
        "    \n",
        "    img=soil_merge_list[0]#there is only one image as soil is static\n",
        "    for mask in (mask_list):\n",
        "        masked_img=img*mask\n",
        "        masked_im_list.append(masked_img) \n",
        "\n",
        "    #masked_im_list[0]\n",
        "\n",
        "    return masked_im_list\n",
        "\n"
      ],
      "execution_count": null,
      "outputs": []
    },
    {
      "cell_type": "code",
      "metadata": {
        "id": "eKhZqkvebKuu"
      },
      "source": [
        "\n",
        "mask_path=Path('/content/drive/MyDrive/data_Lakshya/crop_yield-data_mask_Lakshya')\n",
        "clay_path=Path('/content/drive/MyDrive/data_Lakshya/soil_data_clay_content')\n",
        "sand_path=Path('/content/drive/MyDrive/data_Lakshya/soil_data_sand')\n",
        "water_path = Path('/content/drive/MyDrive/data_Lakshya/soil_data_water_content')\n",
        "ph_path = Path('/content/drive/MyDrive/data_Lakshya/soil_data_ph_value')\n",
        "bulk_path = Path('/content/drive/MyDrive/data_Lakshya/soil_data_bulk_density')\n",
        "carbon_path = Path('/content/drive/MyDrive/data_Lakshya/soil_data_carbon_content')\n",
        "yield_data_path=Path('/content/drive/MyDrive/data_Lakshya/corn_yield_Lakshya.csv')\n",
        "cleaned_data_path=Path('/content/drive/MyDrive/data_Lakshya_op/uSoilComposite')\n",
        "multiprocessing=False#false value is not working giving error\n",
        "processes=4 # prev = 4\n",
        "parallelism=6 # prev = 6\n",
        "delete_when_done=False\n",
        "num_years = 10  #number of years of data = 10\n",
        "\n",
        "cleaner = DataCleanerSoil(mask_path, clay_path, sand_path, water_path,  ph_path,\n",
        "                        bulk_path, carbon_path, yield_data_path,\n",
        "                        savedir=cleaned_data_path, multiprocessing=multiprocessing,\n",
        "                        processes=processes, parallelism=parallelism)\n",
        "cleaner.process(delete_when_done=delete_when_done, num_years=num_years)"
      ],
      "execution_count": null,
      "outputs": []
    },
    {
      "cell_type": "code",
      "metadata": {
        "id": "CFx89yLztejm"
      },
      "source": [
        "a=np.load('/content/drive/MyDrive/singleData/2011_55_141.npy')\n",
        "print(a.shape)\n",
        "print(np.nonzero(a))"
      ],
      "execution_count": null,
      "outputs": []
    },
    {
      "cell_type": "code",
      "metadata": {
        "id": "T6GyQkbQ79TP"
      },
      "source": [
        "global_processed_files=[]\n",
        "\n",
        "imageComposite_files=[]\n",
        "for dir_file in Path('/content/drive/MyDrive/data_Lakshya_op/imageComposite').iterdir():\n",
        "    # print(dir_file)\n",
        "    if str(dir_file).endswith('npy'):\n",
        "        #strip out the directory so it's just file name\n",
        "        imageComposite_files.append(str(dir_file.parts[-1]))\n",
        "print(\"imageComposite_files: \")\n",
        "print(len(imageComposite_files))\n",
        "# 5480\n",
        "soil_files=[]\n",
        "for dir_file in Path('/content/drive/MyDrive/data_Lakshya_op/soilComposite').iterdir():\n",
        "    # print(dir_file)\n",
        "    if str(dir_file).endswith('npy'):\n",
        "        #strip out the directory so it's just file name\n",
        "        soil_files.append(str(dir_file.parts[-1]))\n",
        "\n",
        "print(\"soilComposite_files: \")\n",
        "print(len(soil_files))\n",
        "\n",
        "for str_file in imageComposite_files:\n",
        "    if str_file in soil_files:\n",
        "        global_processed_files.append(str_file)\n",
        "\n",
        "global_processed_files.sort()\n",
        "print(\"global_processed_files: \")\n",
        "print(len(global_processed_files))\n"
      ],
      "execution_count": null,
      "outputs": []
    },
    {
      "cell_type": "code",
      "metadata": {
        "id": "AZYAYj-ShvDl"
      },
      "source": [
        "#feature engineering goes here\n",
        "from pathlib import Path\n",
        "import numpy as np\n",
        "import pandas as pd\n",
        "import math\n",
        "\n",
        "class Engineer:\n",
        "    \"\"\"\n",
        "    Take the preprocessed data from the Data Cleaner\n",
        "    and turn the images into matrices which can be input\n",
        "    into the machine learning models.\n",
        "\n",
        "    These matrices can either be histograms, which describe the distributions of\n",
        "    pixels on each band, and contain 32 bins.\n",
        "    This turns the band of an image from dim=(width*height) to dim=32.\n",
        "\n",
        "    They can also be means of each band, which turns the band of an image from\n",
        "    dim=(width*height) into a scalar value.\n",
        "    \"\"\"\n",
        "    def __init__(self, cleaned_data_path=Path('img_output'),\n",
        "                 yield_data_filepath=Path('SOP- Time Series Analysis with Deep Learning/yield_data_less_entries.csv'),\n",
        "                 county_data_filepath=Path('SOP- Time Series Analysis with Deep Learning/county_data.csv')):\n",
        "        self.cleaned_data=cleaned_data_path\n",
        "        # self.processed_files=self.get_filenames()\n",
        "        self.processed_files=global_processed_files\n",
        "        print(len(self.processed_files))\n",
        "        # print(self.processed_files)\n",
        "        #merge the yield and county data for easier manipulation\n",
        "        yield_data=load_clean_yield_data(yield_data_filepath)[['Year','State ANSI','County ANSI','Value']]\n",
        "        yield_data.columns=['Year','State','County','Value']\n",
        "        county_data=pd.read_csv(county_data_filepath)[['CntyFips','StateFips', 'Longitude','Latitude']]\n",
        "        county_data.columns=['County', 'State', 'Longitude', 'Latitude']\n",
        "        self.yield_data=yield_data.merge(county_data, how='left', on=['County','State'])\n",
        "\n",
        "    def get_filenames(self):\n",
        "        \"\"\"\n",
        "        Get all the .tif files in the image folder.\n",
        "        \"\"\"\n",
        "        files=[]\n",
        "        \n",
        "        print(self.cleaned_data)\n",
        "        for dir_file in Path(self.cleaned_data).iterdir():\n",
        "            # print(dir_file)\n",
        "            if str(dir_file).endswith('npy'):\n",
        "                #strip out the directory so it's just file name\n",
        "                files.append(str(dir_file.parts[-1]))\n",
        "                global_processed_files.append(str(dir_file.parts[-1]))\n",
        "        # files.sort()#to ensure that soil and image data stored in same sequence\n",
        "        # global_processed_files=files\n",
        "        return files\n",
        "    \n",
        "    @staticmethod\n",
        "    def filter_timespan(imcol, start_day=91, end_day=335, composite_period=8, bands=11):\n",
        "        # 1st April to 30th Nov\n",
        "        \"\"\"\n",
        "        Given an image collection containing a year's worth of data,\n",
        "        filter it between start_day and end_day. If end_day is later than the date\n",
        "        for which we have data, the image collection is padded with zeros.\n",
        "\n",
        "        Parameters\n",
        "        ----------\n",
        "        imcol: The image collection to be filtered\n",
        "        start_day: int, default=49\n",
        "            The earliest day for which to consider data\n",
        "        end_day: int, default=305\n",
        "            The last day for which to consider data\n",
        "        composite_period: int, default=8\n",
        "            The composite period of the images. Default taken from the composite\n",
        "            periods of the MOD09A1 and MYD11A2 datasets\n",
        "        bands: int, default=9\n",
        "            The number of bands per image. Default taken from the number of bands in the\n",
        "            MOD09A1 + the number of bands in the MYD11A2 datasets\n",
        "\n",
        "        Returns\n",
        "        ----------\n",
        "        A filtered image collection\n",
        "        \"\"\"\n",
        "        start_index=int(math.floor(start_day/composite_period))*bands\n",
        "        end_index=int(math.floor(end_day/composite_period))*bands\n",
        "\n",
        "        if end_index>imcol.shape[2]:\n",
        "            padding=np.zeros((imcol.shape[0], imcol.shape[1], end_index-imcol.shape[2]))\n",
        "            imcol=np.concatenate((imcol,padding), axis=2)\n",
        "        return imcol[:,:, start_index:end_index]\n",
        "\n",
        "    @staticmethod\n",
        "    def _calculate_histogram(imagecol, num_bins=32, bands=11, max_bin_val=4999,\n",
        "                             channels_first=True):\n",
        "        \"\"\"\n",
        "        Given an image collection, turn it into a histogram.\n",
        "\n",
        "        Parameters\n",
        "        ----------\n",
        "        imcol: The image collection to be histogrammed\n",
        "        num_bins: int, default=32\n",
        "            The number of bins to use in the histogram.\n",
        "        bands: int, default=9\n",
        "            The number of bands per image. Default taken from the number of bands in the\n",
        "            MOD09A1 + the number of bands in the MYD11A2 datasets\n",
        "        max_bin_val: int, default=4999\n",
        "            The maximum value of the bins. The default is taken from the original repository;\n",
        "            note that the maximum pixel values from the MODIS datsets range from 16000 to\n",
        "            18000 depending on the band\n",
        "\n",
        "        Returns\n",
        "        ----------\n",
        "        A histogram for each band, of the band's pixel values. The output shape is\n",
        "        [num_bins, times, bands], where times is the number of unique timestamps in the\n",
        "        image collection.\n",
        "        \"\"\"\n",
        "        bin_seq=np.linspace(1,max_bin_val, num_bins+1)\n",
        "\n",
        "        hist=[]\n",
        "        for im in np.split(imagecol, imagecol.shape[-1]/bands, axis=-1):\n",
        "            imhist=[]\n",
        "            for i in range(im.shape[-1]):\n",
        "                density,_=np.histogram(im[:,:,i],bin_seq, density=False)\n",
        "                # max prevents divide by zero\n",
        "                imhist.append(density/max(1,density.sum()))\n",
        "            if channels_first:\n",
        "                hist.append(np.stack(imhist))\n",
        "            else:\n",
        "                hist.append(np.stack(imhist,axis=1))\n",
        "        return np.stack(hist, axis=1)\n",
        "\n",
        "    def process(self, num_bands=11, generate='histogram', num_bins=32, max_bin_val=4999,\n",
        "                channels_first=True):\n",
        "        \"\"\"\n",
        "        Parameters\n",
        "        ----------\n",
        "        num_bands: int, default=9\n",
        "            The number of bands per image. Default taken from the number of bands in the\n",
        "            MOD09A1 + the number of bands in the MYD11A2 datasets\n",
        "        generate: str, {'mean', 'histogram'}, default='mean'\n",
        "            What to generate from the data. If 'mean', calculates a mean\n",
        "            of all the bands. If 'histogram', calculates a histogram of all\n",
        "            the bands with num_bins bins for each band.\n",
        "        num_bins: int, default=32\n",
        "            If generate=='histogram', the number of bins to generate in the histogram.\n",
        "        max_bin_val: int, default=4999\n",
        "            The maximum value of the bins. The default is taken from the original repository;\n",
        "            note that the maximum pixel values from the MODIS datsets range from 16000 to\n",
        "            18000 depending on the band\n",
        "        channels_first: boolean, default=True\n",
        "            If true, the output histogram has shape [bands, times, bins]. Otherwise, it\n",
        "            has shape [times, bins, bands]\n",
        "        \"\"\"\n",
        "\n",
        "        #define all the outputs of this method\n",
        "        output_images=[]\n",
        "        yields=[]\n",
        "        years=[]\n",
        "        locations=[]\n",
        "        state_county_info=[]\n",
        "        count=0\n",
        "        for yield_data in self.yield_data.itertuples():\n",
        "            year=yield_data.Year\n",
        "            county=yield_data.County\n",
        "            state=yield_data.State\n",
        "\n",
        "            filename=f'{year}_{int(state)}_{int(county)}.npy'\n",
        "            if filename in self.processed_files:\n",
        "                # print(filename)\n",
        "                image=np.load(self.cleaned_data/filename)\n",
        "                image=self.filter_timespan(image, start_day=91, end_day=335,\n",
        "                                           bands=num_bands)\n",
        "                # from 1st April to 30th Nov\n",
        "                print(filename,\"\\t\",image.shape)\n",
        "                # print(filename)\n",
        "                if generate=='mean':\n",
        "                    image=np.sum(image, axis=(0,1))/np.count_nonzero(image)*image.shape[2]\n",
        "                    image[np.isnan(image)]=0\n",
        "                elif generate=='histogram':\n",
        "                    image=self._calculate_histogram(image, bands=num_bands,\n",
        "                                                    num_bins=num_bins,\n",
        "                                                    max_bin_val=max_bin_val,\n",
        "                                                    channels_first=channels_first)\n",
        "                    \n",
        "                output_images.append(image)\n",
        "                yields.append(yield_data.Value)\n",
        "                years.append(year)\n",
        "                try:\n",
        "                    lat, lon=float(yield_data.Latitude), float(yield_data.Longitude)\n",
        "                except ValueError:\n",
        "                    lat=float(yield_data.Latitude[:-1])\n",
        "                    lon=-float(yield_data.Longitude)\n",
        "                locations.append(np.array([lon,lat]))\n",
        "\n",
        "                state_county_info.append(np.array([int(state), int(county)]))\n",
        "\n",
        "        # print(output_images)\n",
        "        # print(count)\n",
        "        np.savez(self.cleaned_data/f'histogram_all_{\"mean\" if(generate==\"mean\") else \"full\"}.npz',\n",
        "                 output_image=np.stack(output_images), output_yield=np.array(yields),\n",
        "                 output_year=np.array(years), output_locations=np.stack(locations),\n",
        "                 output_index=np.stack(state_county_info))\n",
        "        print(f'Finished generating image {generate}s!')"
      ],
      "execution_count": null,
      "outputs": []
    },
    {
      "cell_type": "code",
      "metadata": {
        "id": "jVSIIxip0K2Z"
      },
      "source": [
        "cleaned_data_path=Path('/content/drive/MyDrive/data_Lakshya_op/imageComposite')\n",
        "yield_data_path = Path('/content/drive/MyDrive/data_Lakshya/corn_yield_Lakshya.csv')\n",
        "county_data_path = Path('/content/drive/MyDrive/data_Lakshya/county_data.csv')\n",
        "num_bins=32\n",
        "max_bin_val=5000#4999\n",
        "\n",
        "engineer = Engineer(cleaned_data_path, yield_data_path, county_data_path)\n",
        "engineer.process(num_bands=11, generate='histogram', num_bins=num_bins, max_bin_val=max_bin_val,\n",
        "                channels_first=True)"
      ],
      "execution_count": null,
      "outputs": []
    },
    {
      "cell_type": "code",
      "metadata": {
        "id": "L2eFskTHqArZ"
      },
      "source": [
        "data = np.load('/content/drive/MyDrive/data_Lakshya_op/uImageComposite/histogram_all_full.npz')\n",
        "lst = data.files\n",
        "np.set_printoptions(threshold=np. inf)\n",
        "\n",
        "#Required output in the form (1(years), 32(bins), 11(layers), days) and currently shape is (years, layers, days, bins(32))\n",
        "#required (10,32,11,19)\n",
        "\n",
        "for item in lst:\n",
        "    print(item)\n",
        "    a = data[item][0]\n",
        "    print(data[item][0].shape)\n",
        "print(len(data[\"output_index\"]))"
      ],
      "execution_count": null,
      "outputs": []
    },
    {
      "cell_type": "code",
      "metadata": {
        "colab": {
          "base_uri": "https://localhost:8080/"
        },
        "id": "KqLeUfsUuPG7",
        "outputId": "92a0eed2-63ed-467f-df39-3d4f94fb13ce"
      },
      "source": [
        "out_img_composite = data['output_image']\n",
        "out_img_composite.shape"
      ],
      "execution_count": null,
      "outputs": [
        {
          "output_type": "execute_result",
          "data": {
            "text/plain": [
              "(2491, 11, 30, 32)"
            ]
          },
          "metadata": {
            "tags": []
          },
          "execution_count": 13
        }
      ]
    },
    {
      "cell_type": "code",
      "metadata": {
        "colab": {
          "base_uri": "https://localhost:8080/"
        },
        "id": "ybtbQfJe3LO5",
        "outputId": "6b423d50-2349-47e4-cf05-a4b43d0a9c15"
      },
      "source": [
        "#data preparation IMPORTANT TRANSPOSE\n",
        "out_img_composite = np.transpose(out_img_composite, axes=(0,2,3,1))\n",
        "out_img_composite.shape"
      ],
      "execution_count": null,
      "outputs": [
        {
          "output_type": "execute_result",
          "data": {
            "text/plain": [
              "(2491, 30, 32, 11)"
            ]
          },
          "metadata": {
            "tags": []
          },
          "execution_count": 14
        }
      ]
    },
    {
      "cell_type": "code",
      "metadata": {
        "colab": {
          "base_uri": "https://localhost:8080/"
        },
        "id": "9OfrH1nTqGjc",
        "outputId": "79e37bf9-5d67-429a-f244-f0f0a8739e72"
      },
      "source": [
        "out_img_composite = out_img_composite.reshape(out_img_composite.shape[0],out_img_composite.shape[1],1,out_img_composite.shape[2],out_img_composite.shape[3])\n",
        "out_img_composite.shape\n",
        "# last was (2491,....)"
      ],
      "execution_count": null,
      "outputs": [
        {
          "output_type": "execute_result",
          "data": {
            "text/plain": [
              "(2491, 30, 1, 32, 11)"
            ]
          },
          "metadata": {
            "tags": []
          },
          "execution_count": 15
        }
      ]
    },
    {
      "cell_type": "markdown",
      "metadata": {
        "id": "IDlItju-3Lte"
      },
      "source": [
        "### SOIL WORK STARTS"
      ]
    },
    {
      "cell_type": "code",
      "metadata": {
        "id": "lrk_bVN3-aeA"
      },
      "source": [
        "print(len(global_processed_files))\n",
        "print(global_processed_files)"
      ],
      "execution_count": null,
      "outputs": []
    },
    {
      "cell_type": "code",
      "metadata": {
        "id": "1HDNSqw63P64"
      },
      "source": [
        "#feature engineering goes here\n",
        "from pathlib import Path\n",
        "import numpy as np\n",
        "import pandas as pd\n",
        "import math\n",
        "\n",
        "# from .utils import load_clean_yield_data as load#directly function definition is being used\n",
        "\n",
        "class EngineerSoil:\n",
        "    \"\"\"\n",
        "    Take the preprocessed data from the Data Cleaner\n",
        "    and turn the images into matrices which can be input\n",
        "    into the machine learning models.\n",
        "\n",
        "    These matrices can either be histograms, which describe the distributions of\n",
        "    pixels on each band, and contain 32 bins.\n",
        "    This turns the band of an image from dim=(width*height) to dim=32.\n",
        "\n",
        "    They can also be means of each band, which turns the band of an image from\n",
        "    dim=(width*height) into a scalar value.\n",
        "    \"\"\"\n",
        "    def __init__(self, cleaned_data_path=Path('img_output'),\n",
        "                 yield_data_filepath=Path('SOP- Time Series Analysis with Deep Learning/yield_data_less_entries.csv'),\n",
        "                 county_data_filepath=Path('SOP- Time Series Analysis with Deep Learning/county_data.csv')):\n",
        "        self.cleaned_data=cleaned_data_path\n",
        "        # self.processed_files=self.get_filenames()\n",
        "        self.processed_files=global_processed_files\n",
        "        print(len(self.processed_files))\n",
        "        print(self.processed_files)\n",
        "        #merge the yield and county data for easier manipulation\n",
        "        yield_data=load_clean_yield_data(yield_data_filepath)[['Year','State ANSI','County ANSI','Value']]\n",
        "        yield_data.columns=['Year','State','County','Value']\n",
        "        county_data=pd.read_csv(county_data_filepath)[['CntyFips','StateFips', 'Longitude','Latitude']]\n",
        "        county_data.columns=['County', 'State', 'Longitude', 'Latitude']\n",
        "        self.yield_data=yield_data.merge(county_data, how='left', on=['County','State'])\n",
        "\n",
        "    def get_filenames(self):\n",
        "        \"\"\"\n",
        "        Get all the .tif files in the image folder.\n",
        "        \"\"\"\n",
        "        files=[]\n",
        "        files.sort()#to ensure that soil and image data stored in same sequence\n",
        "        # print(self.cleaned_data)\n",
        "        for dir_file in Path(self.cleaned_data).iterdir():\n",
        "            # print(dir_file)\n",
        "            if str(dir_file).endswith('npy'):\n",
        "                #strip out the directory so it's just file name\n",
        "                if str(dir_file.parts[-1]) in global_processed_files:\n",
        "                    files.append(str(dir_file.parts[-1]))\n",
        "        return files\n",
        "    \n",
        "    @staticmethod\n",
        "    def filter_timespan(imcol, start_day=49, end_day=305, composite_period=8, bands=9):\n",
        "        \"\"\"\n",
        "        Given an image collection containing a year's worth of data,\n",
        "        filter it between start_day and end_day. If end_day is later than the date\n",
        "        for which we have data, the image collection is padded with zeros.\n",
        "\n",
        "        Parameters\n",
        "        ----------\n",
        "        imcol: The image collection to be filtered\n",
        "        start_day: int, default=49\n",
        "            The earliest day for which to consider data\n",
        "        end_day: int, default=305\n",
        "            The last day for which to consider data\n",
        "        composite_period: int, default=8\n",
        "            The composite period of the images. Default taken from the composite\n",
        "            periods of the MOD09A1 and MYD11A2 datasets\n",
        "        bands: int, default=9\n",
        "            The number of bands per image. Default taken from the number of bands in the\n",
        "            MOD09A1 + the number of bands in the MYD11A2 datasets\n",
        "\n",
        "        Returns\n",
        "        ----------\n",
        "        A filtered image collection\n",
        "        \"\"\"\n",
        "        start_index=int(math.floor(start_day/composite_period))*bands\n",
        "        end_index=int(math.floor(end_day/composite_period))*bands\n",
        "\n",
        "        if end_index>imcol.shape[2]:\n",
        "            padding=np.zeros((imcol.shape[0], imcol.shape[1], end_index-imcol.shape[2]))\n",
        "            imcol=np.concatenate((imcol,padding), axis=2)\n",
        "        return imcol[:,:, start_index:end_index]\n",
        "\n",
        "    @staticmethod\n",
        "    def _calculate_histogram(imagecol, num_bins=32, bands=11, max_bin_val=4999,\n",
        "                             channels_first=True):\n",
        "        \"\"\"\n",
        "        Given an image collection, turn it into a histogram.\n",
        "\n",
        "        Parameters\n",
        "        ----------\n",
        "        imcol: The image collection to be histogrammed\n",
        "        num_bins: int, default=32\n",
        "            The number of bins to use in the histogram.\n",
        "        bands: int, default=9\n",
        "            The number of bands per image. Default taken from the number of bands in the\n",
        "            MOD09A1 + the number of bands in the MYD11A2 datasets\n",
        "        max_bin_val: int, default=4999\n",
        "            The maximum value of the bins. The default is taken from the original repository;\n",
        "            note that the maximum pixel values from the MODIS datsets range from 16000 to\n",
        "            18000 depending on the band\n",
        "\n",
        "        Returns\n",
        "        ----------\n",
        "        A histogram for each band, of the band's pixel values. The output shape is\n",
        "        [num_bins, times, bands], where times is the number of unique timestamps in the\n",
        "        image collection.\n",
        "        \"\"\"\n",
        "        bin_seq=np.linspace(1,max_bin_val, num_bins+1)\n",
        "\n",
        "        hist=[]\n",
        "        for im in np.split(imagecol, imagecol.shape[-1]/bands, axis=-1):\n",
        "            imhist=[]\n",
        "            for i in range(im.shape[-1]):\n",
        "                density,_=np.histogram(im[:,:,i],bin_seq, density=False)\n",
        "                # max prevents divide by zero\n",
        "                imhist.append(density/max(1,density.sum()))\n",
        "            if channels_first:\n",
        "                hist.append(np.stack(imhist))\n",
        "            else:\n",
        "                hist.append(np.stack(imhist,axis=1))\n",
        "        return np.stack(hist, axis=1)\n",
        "\n",
        "    def process(self, num_bands=36, generate='histogram', num_bins=32, max_bin_val=4999,\n",
        "                channels_first=True):\n",
        "        \"\"\"\n",
        "        Parameters\n",
        "        ----------\n",
        "        num_bands: int, default=9\n",
        "            The number of bands per image. Default taken from the number of bands in the\n",
        "            MOD09A1 + the number of bands in the MYD11A2 datasets\n",
        "        generate: str, {'mean', 'histogram'}, default='mean'\n",
        "            What to generate from the data. If 'mean', calculates a mean\n",
        "            of all the bands. If 'histogram', calculates a histogram of all\n",
        "            the bands with num_bins bins for each band.\n",
        "        num_bins: int, default=32\n",
        "            If generate=='histogram', the number of bins to generate in the histogram.\n",
        "        max_bin_val: int, default=4999\n",
        "            The maximum value of the bins. The default is taken from the original repository;\n",
        "            note that the maximum pixel values from the MODIS datsets range from 16000 to\n",
        "            18000 depending on the band\n",
        "        channels_first: boolean, default=True\n",
        "            If true, the output histogram has shape [bands, times, bins]. Otherwise, it\n",
        "            has shape [times, bins, bands]\n",
        "        \"\"\"\n",
        "\n",
        "        #define all the outputs of this method\n",
        "        output_images=[]\n",
        "        yields=[]\n",
        "        years=[]\n",
        "        locations=[]\n",
        "        state_county_info=[]\n",
        "        count=0\n",
        "        for yield_data in self.yield_data.itertuples():\n",
        "            year=yield_data.Year\n",
        "            county=yield_data.County\n",
        "            state=yield_data.State\n",
        "\n",
        "            filename=f'{year}_{int(state)}_{int(county)}.npy'\n",
        "            if filename in self.processed_files:\n",
        "                # print(filename)\n",
        "                image=np.load(self.cleaned_data/filename)\n",
        "                # image=self.filter_timespan(image, start_day=49, end_day=305,\n",
        "                #                            bands=num_bands)\n",
        "                print(image.shape)\n",
        "                # print(filename)\n",
        "                if generate=='mean':\n",
        "                    image=np.sum(image, axis=(0,1))/np.count_nonzero(image)*image.shape[2]\n",
        "                    image[np.isnan(image)]=0\n",
        "                elif generate=='histogram':\n",
        "                    image=self._calculate_histogram(image, bands=num_bands,\n",
        "                                                    num_bins=num_bins,\n",
        "                                                    max_bin_val=max_bin_val,\n",
        "                                                    channels_first=channels_first)\n",
        "                    \n",
        "                output_images.append(image)\n",
        "                yields.append(yield_data.Value)\n",
        "                years.append(year)\n",
        "\n",
        "                # some of the minus signs in the longitudes have been carried over to the\n",
        "                # longitudes, i.e. 19.683885, -155.393159 becomes 19.683885-, 155.393159\n",
        "                try:\n",
        "                    lat, lon=float(yield_data.Latitude), float(yield_data.Longitude)\n",
        "                except ValueError:\n",
        "                    lat=float(yield_data.Latitude[:-1])\n",
        "                    lon=-float(yield_data.Longitude)\n",
        "                locations.append(np.array([lon,lat]))\n",
        "\n",
        "                state_county_info.append(np.array([int(state), int(county)]))\n",
        "\n",
        "                # print(f'County: {int(county)}, State: {state}, Year: {year}, Output shape: {image.shape}')\n",
        "                # ++count#just in place as above line gives IOPub data rate exceeded. as given in next code block\n",
        "        # print(output_images)\n",
        "        # print(count)\n",
        "        np.savez(self.cleaned_data/f'histogram_all_{\"mean\" if(generate==\"mean\") else \"full\"}.npz',\n",
        "                 output_image=np.stack(output_images), output_yield=np.array(yields),\n",
        "                 output_year=np.array(years), output_locations=np.stack(locations),\n",
        "                 output_index=np.stack(state_county_info))\n",
        "        print(f'Finished generating image {generate}s!')\n"
      ],
      "execution_count": null,
      "outputs": []
    },
    {
      "cell_type": "code",
      "metadata": {
        "id": "LW3P9oOStqMj"
      },
      "source": [
        "# cleaned_data_path = Path('/content/drive/MyDrive/singleData')\n",
        "cleaned_data_path=Path('/content/drive/MyDrive/data_Lakshya_op/soilComposite')\n",
        "yield_data_path = Path('/content/drive/MyDrive/data_Lakshya/corn_yield_Lakshya.csv')\n",
        "county_data_path = Path('/content/drive/MyDrive/data_Lakshya/county_data.csv')\n",
        "num_bins=32\n",
        "max_bin_val=4999\n",
        "\n",
        "engineerSoil = EngineerSoil(cleaned_data_path, yield_data_path, county_data_path)\n",
        "engineerSoil.process(num_bands=36, generate='histogram', num_bins=num_bins, max_bin_val=max_bin_val,\n",
        "                channels_first=True)"
      ],
      "execution_count": null,
      "outputs": []
    },
    {
      "cell_type": "code",
      "metadata": {
        "colab": {
          "base_uri": "https://localhost:8080/"
        },
        "id": "W-fqeQxr2c7i",
        "outputId": "19bfb7f7-e1fe-47eb-ec0e-9cfc7404748a"
      },
      "source": [
        "data = np.load('/content/drive/MyDrive/data_Lakshya_op/uSoilComposite/histogram_all_full.npz')\n",
        "lst = data.files\n",
        "np.set_printoptions(threshold=np. inf)\n",
        "\n",
        "#Required output in the form (1(years), 32(bins), 11(layers), days) and currently shape is (years, layers, days, bins(32))\n",
        "#required (10,32,11,19)\n",
        "\n",
        "for item in lst:\n",
        "    print(item)\n",
        "    a = data[item][0]\n",
        "    print(data[item][0].shape)\n",
        "print(len(data[\"output_index\"]))"
      ],
      "execution_count": null,
      "outputs": [
        {
          "output_type": "stream",
          "text": [
            "output_image\n",
            "(36, 1, 32)\n",
            "output_yield\n",
            "()\n",
            "output_year\n",
            "()\n",
            "output_locations\n",
            "(2,)\n",
            "output_index\n",
            "(2,)\n",
            "2491\n"
          ],
          "name": "stdout"
        }
      ]
    },
    {
      "cell_type": "code",
      "metadata": {
        "colab": {
          "base_uri": "https://localhost:8080/"
        },
        "id": "VXTJZfeb2fft",
        "outputId": "c682e501-7afb-465f-c1bf-cbbd9771a193"
      },
      "source": [
        "out_soil = data['output_image']\n",
        "out_soil.shape"
      ],
      "execution_count": null,
      "outputs": [
        {
          "output_type": "execute_result",
          "data": {
            "text/plain": [
              "(2491, 36, 1, 32)"
            ]
          },
          "metadata": {
            "tags": []
          },
          "execution_count": 18
        }
      ]
    },
    {
      "cell_type": "code",
      "metadata": {
        "colab": {
          "base_uri": "https://localhost:8080/"
        },
        "id": "wTmZppfJ3Bhn",
        "outputId": "e6fd323d-d1e4-415d-dccc-73d867218e5c"
      },
      "source": [
        "out_soil = np.transpose(out_soil, axes=(0,2,3,1))\n",
        "out_soil.shape"
      ],
      "execution_count": null,
      "outputs": [
        {
          "output_type": "execute_result",
          "data": {
            "text/plain": [
              "(2491, 1, 32, 36)"
            ]
          },
          "metadata": {
            "tags": []
          },
          "execution_count": 19
        }
      ]
    },
    {
      "cell_type": "code",
      "metadata": {
        "id": "NN6aYkCP3Meo"
      },
      "source": [
        "# not required here\n",
        "# out_soil = out_soil.reshape(out_soil.shape[0],out_soil.shape[1],out_soil.shape[2])\n",
        "# out_soil.shape"
      ],
      "execution_count": null,
      "outputs": []
    },
    {
      "cell_type": "code",
      "metadata": {
        "id": "OmwkxICA44rD"
      },
      "source": [
        ""
      ],
      "execution_count": null,
      "outputs": []
    },
    {
      "cell_type": "markdown",
      "metadata": {
        "id": "b7-UNlKnD1b_"
      },
      "source": [
        "###  **USEFUL MODEL** "
      ]
    },
    {
      "cell_type": "code",
      "metadata": {
        "id": "F-4B-bce5wdK"
      },
      "source": [
        "import tensorflow as tf\n",
        "import numpy as np\n",
        "import pickle\n",
        "import os\n",
        "\n",
        "from tensorflow import keras\n",
        "from tensorflow.keras import layers\n",
        "\n",
        "tf.keras.backend.clear_session()"
      ],
      "execution_count": null,
      "outputs": []
    },
    {
      "cell_type": "code",
      "metadata": {
        "id": "9yZFJxNS50io"
      },
      "source": [
        "time_steps=30\n",
        "no_of_bins=32\n",
        "no_of_bands=11\n",
        "no_of_soil_features=36"
      ],
      "execution_count": null,
      "outputs": []
    },
    {
      "cell_type": "code",
      "metadata": {
        "id": "euHv0EOK50sP"
      },
      "source": [
        "\n",
        "input =layers.Input(shape=(1,32,11))\n",
        "\n",
        "x=layers.Conv2D(32,(1,2), activation='relu',input_shape=(1,32,11),padding='same')(input)\n",
        "x=layers.BatchNormalization()(x)\n",
        "x=layers.MaxPool2D((1,2))(x)\n",
        "x=layers.Conv2D(64,(1,2),activation='relu',padding='same')(x)\n",
        "x=layers.BatchNormalization()(x)\n",
        "x=layers.MaxPool2D((1,2))(x)\n",
        "x=layers.Flatten()(x)\n",
        "x=layers.BatchNormalization()(x)\n",
        "cnn_keras = keras.Model(inputs=input, outputs=x)\n"
      ],
      "execution_count": null,
      "outputs": []
    },
    {
      "cell_type": "code",
      "metadata": {
        "id": "SI4E4R8y50oS",
        "colab": {
          "base_uri": "https://localhost:8080/",
          "height": 976
        },
        "outputId": "0b357463-6851-482b-9a5a-2bc9743f0068"
      },
      "source": [
        "keras.utils.plot_model(cnn_keras, \"cnn_keras.png\", show_shapes=True)"
      ],
      "execution_count": null,
      "outputs": [
        {
          "output_type": "execute_result",
          "data": {
            "image/png": "[encoded data removed]",
            "text/plain": [
              "<IPython.core.display.Image object>"
            ]
          },
          "metadata": {
            "tags": []
          },
          "execution_count": 23
        }
      ]
    },
    {
      "cell_type": "code",
      "metadata": {
        "id": "yDBpmIJ550PC"
      },
      "source": [
        "# define two sets of inputs\n",
        "inputA = layers.Input(shape=(time_steps,1,32,11), name=\"time_series\")\n",
        "inputB = layers.Input(shape=(1,32,36), name=\"soil\")\n",
        "\n",
        "# the first branch operates on the first input\n",
        "x = layers.TimeDistributed(cnn_keras)(inputA)\n",
        "x = layers.LSTM(256,return_sequences=True)(x)#256\n",
        "x = layers.Dense(64)(x)\n",
        "x = layers.Flatten()(x)\n",
        "x = keras.Model(inputs=inputA, outputs=x)\n",
        "\n",
        "# the second branch opreates on the second input\n",
        "y = layers.Conv2D(48,(1,2), activation='relu',input_shape=(1,32,36),padding='same')(inputB)#32\n",
        "y = layers.BatchNormalization()(y)\n",
        "y = layers.MaxPool2D((1,2))(y)#though this is not mentioned in paper\n",
        "y = layers.Conv2D(64,(1,2),activation='relu',padding='same')(y)#64\n",
        "y = layers.BatchNormalization()(y)\n",
        "y = layers.MaxPool2D((1,2))(y)\n",
        "y = layers.Flatten()(y)\n",
        "y = keras.Model(inputs=inputB, outputs=y)\n",
        "# combine the output of the two branches\n",
        "combined = layers.concatenate([x.output, y.output])\n",
        "# print(x.output.shape)\n",
        "# print(y.output.shape)\n",
        "# apply a FC layer and then a regression prediction on the\n",
        "# combined outputs\n",
        "z = layers.Dense(64)(combined)     \n",
        "z = layers.Dropout(0.5)(z)\n",
        "z = layers.Dense(1)(z)\n",
        "# our model will accept the inputs of the two branches and\n",
        "# then output a single value\n",
        "model = keras.Model(inputs=[x.input, y.input], outputs=z)"
      ],
      "execution_count": null,
      "outputs": []
    },
    {
      "cell_type": "code",
      "metadata": {
        "id": "2NsHQubY6Fdj",
        "colab": {
          "base_uri": "https://localhost:8080/",
          "height": 1000
        },
        "outputId": "4a8097b4-f3fc-4e9e-e994-c1bc3673f82b"
      },
      "source": [
        "keras.utils.plot_model(model, \"multi_input_and_output_model.png\", show_shapes=True)"
      ],
      "execution_count": null,
      "outputs": [
        {
          "output_type": "execute_result",
          "data": {
            "image/png": "[encoded data removed]",
            "text/plain": [
              "<IPython.core.display.Image object>"
            ]
          },
          "metadata": {
            "tags": []
          },
          "execution_count": 25
        }
      ]
    },
    {
      "cell_type": "code",
      "metadata": {
        "colab": {
          "base_uri": "https://localhost:8080/"
        },
        "id": "koLaWIH96Fz9",
        "outputId": "1800cb90-3f86-4179-a79c-6aadd194fd2a"
      },
      "source": [
        "a1=100*np.random.rand(500,time_steps,1,no_of_bins,no_of_bands)\n",
        "a2= np.random.rand(500,1,no_of_bins,no_of_soil_features)\n",
        "b=np.random.rand(500)\n",
        "print(a1.shape)\n",
        "print(a2.shape)\n",
        "print(b.shape)"
      ],
      "execution_count": null,
      "outputs": [
        {
          "output_type": "stream",
          "text": [
            "(500, 30, 1, 32, 11)\n",
            "(500, 1, 32, 36)\n",
            "(500,)\n"
          ],
          "name": "stdout"
        }
      ]
    },
    {
      "cell_type": "code",
      "metadata": {
        "id": "UinMJQfT6Fwr"
      },
      "source": [
        "# Hyperparameters\n",
        "epochs=200\n",
        "batch_size=16\n",
        "learning_rate = 2*1e-3 #though not given in paper"
      ],
      "execution_count": null,
      "outputs": []
    },
    {
      "cell_type": "code",
      "metadata": {
        "id": "smn-2fCE4xrO"
      },
      "source": [
        "opt=keras.optimizers.Adam(learning_rate=learning_rate)"
      ],
      "execution_count": null,
      "outputs": []
    },
    {
      "cell_type": "code",
      "metadata": {
        "id": "zTjul8sx6lMX"
      },
      "source": [
        "# a1=out_img_composite#[:291,:,:,:,:]    \n",
        "# # print(a1.shape)\n",
        "# # ValueError: Input 0 of layer dense_6 is incompatible with the layer: \n",
        "# # expected axis -1 of input shape to have value 2624 but received input with shape [None, 2432]\n",
        "# # a1=100*np.random.rand(291,time_steps,1,no_of_bins,no_of_bands)\n",
        "\n",
        "# a2=out_soil#[:291,:,:,:]\n",
        "# b= data['output_yield']#[:291]"
      ],
      "execution_count": null,
      "outputs": []
    },
    {
      "cell_type": "code",
      "metadata": {
        "id": "805dCxmr4xrO",
        "colab": {
          "base_uri": "https://localhost:8080/"
        },
        "outputId": "9b2ba606-5ca0-4b7a-8b66-2df9b8e44194"
      },
      "source": [
        "req_indices=data['output_year']==2015\n",
        "# test_indices=[i in range(test_indices) and test_indices[i]==True]\n",
        "test_indices=[]\n",
        "train_indices=[]\n",
        "for i in range(0, len(req_indices)):\n",
        "    if req_indices[i]==True:\n",
        "        test_indices.append(i)\n",
        "    else:\n",
        "        train_indices.append(i)\n",
        "print(len(test_indices))\n",
        "print(len(train_indices))\n",
        "# test_a1=out_img_composite\n",
        "# test_a2=out_soil\n",
        "# test_b=data"
      ],
      "execution_count": null,
      "outputs": [
        {
          "output_type": "stream",
          "text": [
            "261\n",
            "2230\n"
          ],
          "name": "stdout"
        }
      ]
    },
    {
      "cell_type": "code",
      "metadata": {
        "id": "ViinRZGe4xrO"
      },
      "source": [
        "test_out_img_composite=out_img_composite[test_indices,:,:,:,:]\n",
        "test_out_soil=out_soil[test_indices,:,:,:]\n",
        "test_yield=data['output_yield'][test_indices]\n",
        "\n",
        "\n",
        "train_out_img_composite=out_img_composite[train_indices,:,:,:,:]\n",
        "train_out_soil=out_soil[train_indices,:,:,:]\n",
        "train_yield=data['output_yield'][train_indices]"
      ],
      "execution_count": null,
      "outputs": []
    },
    {
      "cell_type": "code",
      "metadata": {
        "id": "6RK2o0hh6FaZ"
      },
      "source": [
        "# model.compile(optimizer='adam', loss='mse')\n",
        "# history=model.fit({\"time_series\": a1, \"soil\": a2}, b, batch_size=batch_size, epochs=epochs)\n",
        "model.compile(optimizer=opt, loss='mse')\n",
        "history=model.fit([train_out_img_composite,train_out_soil], train_yield, batch_size=batch_size, epochs=epochs)"
      ],
      "execution_count": null,
      "outputs": []
    },
    {
      "cell_type": "code",
      "metadata": {
        "id": "DCOcLrlk4xrO",
        "colab": {
          "base_uri": "https://localhost:8080/"
        },
        "outputId": "21ac4b2a-29dd-492b-81e1-9e579bc13136"
      },
      "source": [
        "# Evaluate the model on the test data using `evaluate`\n",
        "print(\"Evaluate on test data\")\n",
        "results = model.evaluate([test_out_img_composite,test_out_soil], test_yield, batch_size=batch_size)\n",
        "print(\"test loss, test acc:\", results)"
      ],
      "execution_count": null,
      "outputs": [
        {
          "output_type": "stream",
          "text": [
            "Evaluate on test data\n",
            "17/17 [==============================] - 0s 5ms/step - loss: 1176.6469\n",
            "test loss, test acc: 1176.6468505859375\n"
          ],
          "name": "stdout"
        }
      ]
    },
    {
      "cell_type": "code",
      "metadata": {
        "id": "J5tuCRy74xrO",
        "colab": {
          "base_uri": "https://localhost:8080/"
        },
        "outputId": "f8d63fab-a98b-48d9-8a56-cfccb23c40d1"
      },
      "source": [
        "print(\"Generate predictions for test samples\")\n",
        "predictions = model.predict([test_out_img_composite,test_out_soil])\n",
        "# print(\"predictions shape:\", predictions.shape)\n",
        "predictions=predictions.reshape((1,predictions.shape[0]))\n",
        "#print(predictions)\n",
        "#print(test_yield)"
      ],
      "execution_count": null,
      "outputs": [
        {
          "output_type": "stream",
          "text": [
            "Generate predictions for test samples\n"
          ],
          "name": "stdout"
        }
      ]
    },
    {
      "cell_type": "code",
      "metadata": {
        "id": "RHbZORy74xrO",
        "colab": {
          "base_uri": "https://localhost:8080/"
        },
        "outputId": "0161daae-0658-4644-efc6-d6f7c846956e"
      },
      "source": [
        "mape=np.array((abs(predictions-test_yield)/test_yield)*100)\n",
        "print(np.mean(mape))"
      ],
      "execution_count": null,
      "outputs": [
        {
          "output_type": "stream",
          "text": [
            "18.576343066689777\n"
          ],
          "name": "stdout"
        }
      ]
    },
    {
      "cell_type": "code",
      "metadata": {
        "id": "JSiW_WEb4xrO"
      },
      "source": [
        "# model.save(\"firstWithSoilBin\")"
      ],
      "execution_count": null,
      "outputs": []
    },
    {
      "cell_type": "code",
      "metadata": {
        "id": "LWLVVoZN4xrO"
      },
      "source": [
        "#model.save(str(str(len(global_processed_files))+\"_\"+str(epochs)+\"_\"+str(batch_size)+\"_\"+str(int(learning_rate*1000))))"
      ],
      "execution_count": null,
      "outputs": []
    },
    {
      "cell_type": "code",
      "metadata": {
        "id": "afop84qqd-ao"
      },
      "source": [
        "# !pip install pyyaml h5py  # Required to save models in HDF5 format\n",
        "model_name=str(len(global_processed_files))+'_opt_'+str(epochs)+'_'+str(batch_size)+'_'+str(int(learning_rate*1000))+'_lstm_192_64_cnnsoil_48_64'\n",
        "print(model_name)\n",
        "# model.save(\"/content/drive/MyDrive/data_Lakshya_op/\"+model_name+\".h5\")\n",
        "model.save(model_name+'.h5')"
      ],
      "execution_count": null,
      "outputs": []
    },
    {
      "cell_type": "code",
      "metadata": {
        "colab": {
          "base_uri": "https://localhost:8080/",
          "height": 295
        },
        "id": "qz28vwv6yYR9",
        "outputId": "1c9b59ab-b254-4b99-dbbd-ca822bd96128"
      },
      "source": [
        "from matplotlib import pyplot as plt\n",
        "plt.plot(history.history['loss'])\n",
        "# plt.plot(history.history['val_loss'])\n",
        "plt.title('model loss')\n",
        "plt.ylabel('loss')\n",
        "plt.xlabel('epoch')\n",
        "# plt.legend(['train', 'val'], loc='upper left')\n",
        "plt.show()"
      ],
      "execution_count": null,
      "outputs": [
        {
          "output_type": "display_data",
          "data": {
            "image/png": "[encoded data removed]",
            "text/plain": [
              "<Figure size 432x288 with 1 Axes>"
            ]
          },
          "metadata": {
            "tags": [],
            "needs_background": "light"
          }
        }
      ]
    },
    {
      "cell_type": "code",
      "metadata": {
        "id": "ARZaUbUkqjb-"
      },
      "source": [
        "keras.models.load_model('/content/drive/MyDrive/data_Lakshya_op/4510_opt_200_16_2_cnn_24_36.h5')\n",
        "model_name=str('4510_opt_200-16_2_cnn_32_64.h5')"
      ],
      "execution_count": null,
      "outputs": []
    },
    {
      "cell_type": "code",
      "metadata": {
        "colab": {
          "base_uri": "https://localhost:8080/"
        },
        "id": "3xXbhCu-rM5A",
        "outputId": "7de25f8a-0400-4146-c361-a9e0bd5f725b"
      },
      "source": [
        "print(\"Generate predictions for test samples\")\n",
        "predictions = model.predict([test_out_img_composite,test_out_soil])\n",
        "# print(\"predictions shape:\", predictions.shape)\n",
        "predictions=predictions.reshape((1,predictions.shape[0]))\n",
        "#print(predictions)\n",
        "#print(test_yield)"
      ],
      "execution_count": null,
      "outputs": [
        {
          "output_type": "stream",
          "text": [
            "Generate predictions for test samples\n"
          ],
          "name": "stdout"
        }
      ]
    },
    {
      "cell_type": "code",
      "metadata": {
        "colab": {
          "base_uri": "https://localhost:8080/"
        },
        "id": "LFE0sbfVrQcR",
        "outputId": "c8a082f6-585f-4e7c-e9ee-164c63bccb2b"
      },
      "source": [
        "mape=np.array((abs(predictions-test_yield)/test_yield)*100)\n",
        "print(np.mean(mape))"
      ],
      "execution_count": null,
      "outputs": [
        {
          "output_type": "stream",
          "text": [
            "39.43439802379853\n"
          ],
          "name": "stdout"
        }
      ]
    },
    {
      "cell_type": "code",
      "metadata": {
        "id": "ESEf__b3awV8"
      },
      "source": [
        "#import torch\n",
        "from bs4 import BeautifulSoup\n",
        "from pathlib import Path\n",
        "import matplotlib as mpl\n",
        "import matplotlib.pyplot as plt\n",
        "\n",
        "\n",
        "def plot_county_errors(data, test_yield, predictions, svg_file=Path('/content/drive/MyDrive/data_Lakshya_op/counties.svg'), save_colorbar=True):\n",
        "    \"\"\"\n",
        "    For the most part, reformatting of\n",
        "    https://github.com/JiaxuanYou/crop_yield_prediction/blob/master/6%20result_analysis/yield_map.py\n",
        "\n",
        "    Generates an svg of the counties, coloured by their prediction error.\n",
        "\n",
        "    Parameters\n",
        "    ----------\n",
        "    model: pathlib Path\n",
        "        Path to the model being plotted.\n",
        "    svg_file: pathlib Path, default=Path('data/counties.svg')\n",
        "        Path to the counties svg file used as a base\n",
        "    save_colorbar: boolean, default=True\n",
        "        Whether to save a colorbar too.\n",
        "    \"\"\"\n",
        "\n",
        "   # model_sd = torch.load(model, map_location='cpu')\n",
        "\n",
        "    #model_dir = model.parents[0]\n",
        "\n",
        "    real_values = test_yield\n",
        "    pred_values = predictions\n",
        "\n",
        "    gp = False\n",
        "\n",
        "    indices =  data['output_index'][test_indices]                     #model_sd['test_indices']]\n",
        "\n",
        "    pred_err = 100 * abs(pred_values - real_values)/real_values\n",
        "    pred_dict = {}\n",
        "\n",
        "    pred_err = np.transpose(pred_err, axes = (1,0))\n",
        "\n",
        "    #return zip(indices, pred_err)\n",
        "    for idx, err in zip(indices, pred_err):\n",
        "        state, county = idx\n",
        "\n",
        "        state = str(state).zfill(2)\n",
        "        county = str(county).zfill(3)\n",
        "\n",
        "        pred_dict[state + county] = err\n",
        "\n",
        "    print(len(pred_dict))\n",
        "\n",
        "    #model_info = model.name[:-8].split('_')\n",
        "\n",
        "    colors = [\"#7dcea0\",\"#52be80\",\"#27ae60\",\"#229954\", \"#1e8449\", \"#196f3d\", \"#145a32\", \"#17202a\"]\n",
        "\n",
        "    _single_plot(pred_dict, svg_file, '/content/drive/MyDrive/data_Lakshya_op/'+model_name+'.svg', colors)\n",
        "\n",
        "    if gp:\n",
        "        gp_pred_err = gp_values - real_values\n",
        "        gp_dict = {}\n",
        "        for idx, err in zip(indices, gp_pred_err):\n",
        "            state, county = idx\n",
        "\n",
        "            state = str(state).zfill(2)\n",
        "            county = str(county).zfill(3)\n",
        "\n",
        "            gp_dict[state + county] = err\n",
        "\n",
        "        _single_plot(gp_dict, svg_file, model_dir / f'{model_info[0]}_{model_info[1]}_gp.svg', colors)\n",
        "\n",
        "    if save_colorbar:\n",
        "        _save_colorbar('/content/drive/MyDrive/data_Lakshya_op/colorbar.png', colors)\n",
        "\n",
        "\n",
        "def _single_plot(err_dict, svg_file, savepath, colors):\n",
        "\n",
        "    # load the svg file\n",
        "    svg = open(svg_file,'r').read()\n",
        "    # Load into Beautiful Soup\n",
        "    soup = BeautifulSoup(svg, features=\"html.parser\")\n",
        "    # Find counties\n",
        "    paths = soup.findAll('path')\n",
        "\n",
        "    path_style = 'font-size:12px;fill-rule:nonzero;stroke:#FFFFFF;stroke-opacity:1;stroke-width:0.1' \\\n",
        "                 ';stroke-miterlimit:4;stroke-dasharray:none;stroke-linecap:butt;marker-start' \\\n",
        "                 ':none;stroke-linejoin:bevel;fill:'\n",
        "\n",
        "    for p in paths:\n",
        "        if p['id'] not in [\"State_Lines\", \"separator\"]:\n",
        "            try:\n",
        "                rate = err_dict[p['id']]\n",
        "            except KeyError:\n",
        "                continue\n",
        "            if rate > 70:\n",
        "                color_class = 6\n",
        "            elif rate > 50:\n",
        "                color_class = 5\n",
        "            elif rate > 40:\n",
        "                color_class = 4\n",
        "            elif rate > 30:\n",
        "                color_class = 3\n",
        "            elif rate > 20:\n",
        "                color_class = 2\n",
        "            elif rate > 10:\n",
        "                color_class = 1\n",
        "            elif rate > 0:\n",
        "                color_class = 0\n",
        "            else:\n",
        "                color_class = 0\n",
        "\n",
        "            color = colors[color_class]\n",
        "            p['style'] = path_style + color\n",
        "    soup = soup.prettify()\n",
        "    with open(savepath, 'w') as f:\n",
        "        f.write(soup)\n",
        "\n",
        "\n",
        "def _save_colorbar(savedir, colors):\n",
        "    fig = plt.figure()\n",
        "    ax = fig.add_axes([0.1, 0.1, 0.02, 0.8])\n",
        "\n",
        "    cmap = mpl.colors.ListedColormap(colors[1:-1])\n",
        "\n",
        "    cmap.set_over(colors[-1])\n",
        "    cmap.set_under(colors[0])\n",
        "\n",
        "    bounds = [0, 10, 20, 30, 40, 50, 60, 70]\n",
        "\n",
        "    norm = mpl.colors.BoundaryNorm(bounds, cmap.N)\n",
        "    cb = mpl.colorbar.ColorbarBase(ax, cmap=cmap,\n",
        "                                   norm=norm,\n",
        "                                   # to use 'extend', you must\n",
        "                                   # specify two extra boundaries:\n",
        "                                   boundaries=[0] + bounds + [70],\n",
        "                                   extend='both',\n",
        "                                   ticks=bounds,  # optional\n",
        "                                   spacing='proportional',\n",
        "                                   orientation='vertical')\n",
        "    plt.savefig(savedir, dpi=300, bbox_inches='tight')\n"
      ],
      "execution_count": null,
      "outputs": []
    },
    {
      "cell_type": "code",
      "metadata": {
        "colab": {
          "base_uri": "https://localhost:8080/",
          "height": 278
        },
        "id": "-73138MASkSD",
        "outputId": "d4f744b4-5b29-424b-d6cc-7ba096da3979"
      },
      "source": [
        "a = plot_county_errors(data, test_yield, predictions, svg_file=Path('/content/drive/MyDrive/data_Lakshya_op/counties.svg'), save_colorbar=True)"
      ],
      "execution_count": null,
      "outputs": [
        {
          "output_type": "stream",
          "text": [
            "261\n"
          ],
          "name": "stdout"
        },
        {
          "output_type": "display_data",
          "data": {
            "image/png": "[encoded data removed]",
            "text/plain": [
              "<Figure size 432x288 with 1 Axes>"
            ]
          },
          "metadata": {
            "tags": [],
            "needs_background": "light"
          }
        }
      ]
    },
    {
      "cell_type": "code",
      "metadata": {
        "id": "-b_urc4VyICs"
      },
      "source": [
        ""
      ],
      "execution_count": null,
      "outputs": []
    }
  ]
}